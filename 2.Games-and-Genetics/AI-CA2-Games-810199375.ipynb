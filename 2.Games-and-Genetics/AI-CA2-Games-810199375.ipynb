{
 "cells": [
  {
   "attachments": {},
   "cell_type": "markdown",
   "metadata": {},
   "source": [
    "<html>\n",
    "<div style=\"background-image: linear-gradient(to left, rgb(255, 255, 255), rgb(138, 136, 136)); width: 600px; vertical-align: middle; height: 40px; margin: 10px;\">\n",
    "<h1 style=\"font-family: Georgia; color: black;\">AI-Fall 01-CA2-Part2</h1>\n",
    "</div>\n",
    "<div style=\"background-image: linear-gradient(to left, rgb(255, 255, 255), rgb(138, 136, 136)); width: 500px; margin: 10px;\">\n",
    "  <img src=\"https://upload.wikimedia.org/wikipedia/en/thumb/f/fd/University_of_Tehran_logo.svg/225px-University_of_Tehran_logo.svg.png\" width=60px width=auto style=\"padding:10px; vertical-align: middle;\">\n",
    "  <span style=\"font-family: Georgia; font-size:30px; color: black;\">University of Tehran </span>\n",
    "</div>\n",
    "<div style=\" background-image: linear-gradient(to left, rgb(255, 255, 255), rgb(138, 136, 136)); width: 400px; height: 30px; margin: 10px;\">\n",
    "  <span style=\"font-family: Georgia; font-size:15pt; color: black; vertical-align: middle;\">Saman Eslami Nazari - std id: 810199375 </span>\n",
    "</div>\n",
    "</html>"
   ]
  },
  {
   "attachments": {},
   "cell_type": "markdown",
   "metadata": {},
   "source": [
    "First, I need a graph to represent the hexagon in the problem. Each edge must have a type to distinguish players."
   ]
  },
  {
   "cell_type": "code",
   "execution_count": 280,
   "metadata": {},
   "outputs": [],
   "source": [
    "class EdgeTypes:\n",
    "    RED = \"red\"\n",
    "    BLUE = \"blue\"\n",
    "    IGNORE = \"ignore\""
   ]
  },
  {
   "cell_type": "code",
   "execution_count": 281,
   "metadata": {},
   "outputs": [],
   "source": [
    "from typing import Optional, Any\n",
    "\n",
    "\n",
    "class Graph:\n",
    "    class Edge:\n",
    "        def __init__(self, u: int, v: int, edge_type: str):\n",
    "            self.u = u\n",
    "            self.v = v\n",
    "            self.edge_type = edge_type\n",
    "\n",
    "        def get_neighbor(self, u: int):\n",
    "            if u == self.u:\n",
    "                return self.v\n",
    "            return self.u\n",
    "\n",
    "        def __eq__(self, __o: object) -> bool:\n",
    "            has_edge = (\n",
    "                (self.u == __o.u and self.v == __o.v) or\n",
    "                (self.u == __o.v and self.v == __o.u)\n",
    "            )\n",
    "            if __o.edge_type == EdgeTypes.IGNORE:\n",
    "                return has_edge\n",
    "            return has_edge and self.edge_type == __o.edge_type\n",
    "\n",
    "    def __init__(self, nodes_cnt: Optional[int] = 6):\n",
    "        self._nodes_cnt = nodes_cnt\n",
    "        self._edges: list[Graph.Edge] = []\n",
    "\n",
    "    def add_edge(self, u: int, v: int, edge_type: Any) -> None:\n",
    "        self._edges.append(Graph.Edge(u, v, edge_type))\n",
    "\n",
    "    def get_neighbors(self, u: int, edge_type: Any) -> list[int]:\n",
    "        return [\n",
    "            n.get_neighbor(u) for n in self._edges\n",
    "            if (n.u == u or n.v == u) and n.edge_type == edge_type\n",
    "        ]\n",
    "\n",
    "    def has_cycle(self, cycle_len: int, edge_type: Any) -> bool:\n",
    "        all_nodes = \\\n",
    "            [e.v for e in self._edges if e.edge_type == edge_type] + \\\n",
    "            [e.u for e in self._edges if e.edge_type == edge_type]\n",
    "\n",
    "        for n in all_nodes:\n",
    "            if self._has_cycle_recursive(\n",
    "                n, edge_type, n, cycle_len, set()\n",
    "            ):\n",
    "                return True\n",
    "        return False\n",
    "\n",
    "    def has_edge(self, u: int, v: int, edge_type: Any) -> bool:\n",
    "        return Graph.Edge(u, v, edge_type) in self._edges\n",
    "\n",
    "    def get_empty_edges(self) -> list[tuple[int, int]]:\n",
    "        result: list[tuple[int, int]] = []\n",
    "        for i in range(self._nodes_cnt):\n",
    "            for j in range(self._nodes_cnt):\n",
    "                if i == j:\n",
    "                    continue\n",
    "                if self.has_edge(i, j, EdgeTypes.IGNORE):\n",
    "                    continue\n",
    "                result.append((i, j))\n",
    "        return result\n",
    "\n",
    "    def get_nodes(self) -> list[int]:\n",
    "        return list(range(self._nodes_cnt))\n",
    "\n",
    "    def get_node_degree(self, u: int, edge_type: Any) -> int:\n",
    "        result: int = 0\n",
    "        for e in self._edges:\n",
    "            if e.u != u and e.v != u:\n",
    "                continue\n",
    "            if e.edge_type == edge_type:\n",
    "                result += 1\n",
    "        return result\n",
    "\n",
    "    def get_edges(self, edge_type: Any) -> list[tuple[int, int]]:\n",
    "        return [(e.u, e.v) for e in self._edges if e.edge_type == edge_type]\n",
    "\n",
    "    def _has_cycle_recursive(\n",
    "            self,\n",
    "            current_node: int,\n",
    "            edge_type: Any,\n",
    "            init_node: int,\n",
    "            cycle_len: int,\n",
    "            explored_edges: set) -> bool:\n",
    "\n",
    "        if cycle_len == 0:\n",
    "            return False\n",
    "\n",
    "        for next_node in self.get_neighbors(current_node, edge_type):\n",
    "            if (\n",
    "                (next_node, current_node) in explored_edges or\n",
    "                (current_node, next_node) in explored_edges\n",
    "            ):\n",
    "                continue\n",
    "\n",
    "            if next_node == init_node and cycle_len == 1:\n",
    "                return True\n",
    "\n",
    "            explored_edges.add((next_node, current_node))\n",
    "            if self._has_cycle_recursive(\n",
    "                    next_node, edge_type, init_node, cycle_len - 1, explored_edges):\n",
    "                return True\n",
    "            explored_edges.remove((next_node, current_node))\n",
    "\n",
    "        return False\n"
   ]
  },
  {
   "attachments": {},
   "cell_type": "markdown",
   "metadata": {},
   "source": [
    "Now, lets create a `SimGame` class to simulate the game actions and states."
   ]
  },
  {
   "cell_type": "code",
   "execution_count": 282,
   "metadata": {},
   "outputs": [],
   "source": [
    "class SimGame:\n",
    "    def __init__(self):\n",
    "        self._graph = Graph()\n",
    "    \n",
    "    def put_line(self, u: int, v: int, color: str) -> None:\n",
    "        self._graph.add_edge(u, v, color)\n",
    "\n",
    "    def get_winner(self) -> str | None:\n",
    "        if self._graph.has_cycle(3, EdgeTypes.RED):\n",
    "            return EdgeTypes.BLUE\n",
    "        if self._graph.has_cycle(3, EdgeTypes.BLUE):\n",
    "            return EdgeTypes.RED\n",
    "        return None\n",
    "    \n",
    "    def get_graph(self) -> Graph:\n",
    "        return self._graph\n",
    "    \n",
    "    def get_available_lines(self) -> list[tuple[int, int]]:\n",
    "        result = self._graph.get_empty_edges()\n",
    "        return result"
   ]
  },
  {
   "attachments": {},
   "cell_type": "markdown",
   "metadata": {},
   "source": [
    "After this, I will make the `Agent` class that will decide its moves by creating a minimax tree."
   ]
  },
  {
   "cell_type": "code",
   "execution_count": 283,
   "metadata": {},
   "outputs": [],
   "source": [
    "from copy import deepcopy\n",
    "\n",
    "\n",
    "class Agent:\n",
    "    def __init__(self):\n",
    "        self._game: SimGame = None\n",
    "\n",
    "    def set_game(self, game: SimGame) -> None:\n",
    "        self._game = game\n",
    "\n",
    "    # returns the estimated final score of doing the move\n",
    "    def decide_next_move(self, depth_limit: int, prune: Optional[bool] = False) -> None:\n",
    "        _, best_move = self._max(self._game, depth_limit, prune)\n",
    "        self._game.put_line(best_move[0], best_move[1], EdgeTypes.BLUE)\n",
    "\n",
    "    def _min(self, game: SimGame, depth_limit: int, prune: Optional[bool] = False, prune_val: Optional[int] = -100000):\n",
    "        if depth_limit == 0:\n",
    "            return self._eval(game.get_graph()), None\n",
    "\n",
    "        global_min = 10000\n",
    "        best_line: tuple[int, int] = None\n",
    "        for l in game.get_available_lines():\n",
    "            game_cpy = deepcopy(game)\n",
    "            game_cpy.put_line(l[0], l[1], EdgeTypes.RED)\n",
    "            local_min = min(\n",
    "                global_min,\n",
    "                self._max(game_cpy, depth_limit - 1, prune, global_min)[0]\n",
    "            )\n",
    "            if local_min <= global_min:\n",
    "                best_line = l\n",
    "                global_min = local_min\n",
    "            if prune and global_min <= prune_val:\n",
    "                break\n",
    "        return global_min, best_line\n",
    "\n",
    "    def _max(self, game: SimGame, depth_limit: int, prune: Optional[bool] = False, prune_val: Optional[int] = 100000):\n",
    "        if depth_limit == 0:\n",
    "            return self._eval(game.get_graph()), None\n",
    "\n",
    "        global_max = -10000\n",
    "        best_line: tuple[int, int] = None\n",
    "        for l in game.get_available_lines():\n",
    "            game_cpy = deepcopy(game)\n",
    "            game_cpy.put_line(l[0], l[1], EdgeTypes.BLUE)\n",
    "            local_max = max(\n",
    "                global_max,\n",
    "                self._min(game_cpy, depth_limit - 1, prune, global_max)[0]\n",
    "            )\n",
    "            if local_max >= global_max:\n",
    "                best_line = l\n",
    "                global_max = local_max\n",
    "            if prune and global_max >= prune_val:\n",
    "                break\n",
    "        return global_max, best_line\n",
    "\n",
    "    def _eval(self, game_graph: Graph) -> int:\n",
    "        result: int = 0\n",
    "        for n in self._game.get_graph().get_nodes():\n",
    "            result += self._game.get_graph().get_node_degree(n, EdgeTypes.RED) ** 2\n",
    "            result -= self._game.get_graph().get_node_degree(n, EdgeTypes.BLUE) ** 2\n",
    "        return result\n"
   ]
  },
  {
   "attachments": {},
   "cell_type": "markdown",
   "metadata": {},
   "source": [
    "I should also write a `RandomAgent` that will play against the `Agent`."
   ]
  },
  {
   "cell_type": "code",
   "execution_count": 284,
   "metadata": {},
   "outputs": [],
   "source": [
    "import random\n",
    "\n",
    "\n",
    "class RandomAgent:\n",
    "    def __init__(self):\n",
    "        self._game: SimGame = None\n",
    "\n",
    "    def set_game(self, game: SimGame) -> None:\n",
    "        self._game = game\n",
    "\n",
    "    def decide_next_move(self) -> None:\n",
    "        choices = self._game.get_available_lines()\n",
    "        chosen_line = random.choice(choices)\n",
    "        self._game.put_line(chosen_line[0], chosen_line[1], EdgeTypes.RED)\n"
   ]
  },
  {
   "attachments": {},
   "cell_type": "markdown",
   "metadata": {},
   "source": [
    "Now lets create a simulation function that will put two agents against each other and return the winner. "
   ]
  },
  {
   "cell_type": "code",
   "execution_count": 285,
   "metadata": {},
   "outputs": [],
   "source": [
    "def simulate(depth_limit: int, blue_agent: Agent, red_agent: RandomAgent, game: SimGame, prune: bool) -> str:\n",
    "    blue_agent.set_game(game)\n",
    "    red_agent.set_game(game)\n",
    "    while True:\n",
    "        winner = None\n",
    "        winner = game.get_winner()\n",
    "        if winner != None:\n",
    "            return winner\n",
    "        blue_agent.decide_next_move(depth_limit, prune)\n",
    "        winner = game.get_winner()\n",
    "        if winner != None:\n",
    "            return winner\n",
    "        red_agent.decide_next_move()\n"
   ]
  },
  {
   "attachments": {},
   "cell_type": "markdown",
   "metadata": {},
   "source": [
    "To test the accuracy of our method, we need to run it about 100 to 200 times and see how many times blue succeeds."
   ]
  },
  {
   "cell_type": "code",
   "execution_count": 288,
   "metadata": {},
   "outputs": [
    {
     "name": "stdout",
     "output_type": "stream",
     "text": [
      "Win chance for level 1 without pruning: 0.28\n",
      "Win chance for level 1 with pruning: 0.31\n",
      "Win chance for level 1 without pruning: 0.38\n",
      "Win chance for level 1 with pruning: 0.33\n"
     ]
    }
   ],
   "source": [
    "def calc_win_chance(\n",
    "    depth_limit: int,\n",
    "    blue_agent: Agent,\n",
    "    red_agent: RandomAgent,\n",
    "    game: SimGame,\n",
    "    run_cnt: int,\n",
    "    prune: bool\n",
    ") -> float:\n",
    "\n",
    "    blue_wins = 0\n",
    "    for _ in range(run_cnt):\n",
    "        blue_agent_cpy = deepcopy(blue_agent)\n",
    "        red_agent_cpy = deepcopy(red_agent)\n",
    "        game_cpy = deepcopy(game)\n",
    "        if simulate(depth_limit, blue_agent_cpy, red_agent_cpy, game_cpy, prune) == EdgeTypes.BLUE:\n",
    "            blue_wins += 1\n",
    "    return blue_wins / run_cnt\n",
    "\n",
    "blue_agent = Agent()\n",
    "red_agent = RandomAgent()\n",
    "game = SimGame()\n",
    "print(f\"Win chance for level 1 without pruning: {calc_win_chance(1, blue_agent, red_agent, game, 100, False)}\")\n",
    "print(f\"Win chance for level 1 with pruning: {calc_win_chance(1, blue_agent, red_agent, game, 100, True)}\")\n",
    "print(f\"Win chance for level 1 without pruning: {calc_win_chance(3, blue_agent, red_agent, game, 100, False)}\")\n",
    "print(f\"Win chance for level 1 with pruning: {calc_win_chance(3, blue_agent, red_agent, game, 100, True)}\")"
   ]
  },
  {
   "attachments": {},
   "cell_type": "markdown",
   "metadata": {},
   "source": [
    "And in the final part, I shall write a function that will run and calculate te run time of our Agent."
   ]
  },
  {
   "cell_type": "code",
   "execution_count": 287,
   "metadata": {},
   "outputs": [
    {
     "name": "stdout",
     "output_type": "stream",
     "text": [
      "Level 1 without pruning: 0.003989466664885792\n",
      "Level 1 with pruning: 0.0037541000007574135\n",
      "Level 3 without pruning: 1.4704068333327693\n",
      "Level 3 with pruning: 0.09652526666711007\n"
     ]
    }
   ],
   "source": [
    "from timeit import timeit\n",
    "from textwrap import dedent\n",
    "\n",
    "\n",
    "def test_agent():\n",
    "\n",
    "    LEVELS_TO_TEST = [1, 3]\n",
    "    SETUP = \"\"\"\n",
    "        from __main__ import simulate, Agent, RandomAgent, SimGame\n",
    "        blue_agent = Agent()\n",
    "        red_agent = RandomAgent()\n",
    "        game = SimGame()\n",
    "    \"\"\"\n",
    "    for l in LEVELS_TO_TEST:\n",
    "        CODE = f\"simulate({l}, blue_agent, red_agent, game, False)\"\n",
    "        print(\n",
    "            f\"Level {l} without pruning: {timeit(stmt=CODE, setup=dedent(SETUP), number=3)/3}\"\n",
    "        )\n",
    "        PRUNE_CODE = f\"simulate({l}, blue_agent, red_agent, game, True)\"\n",
    "        print(\n",
    "            f\"Level {l} with pruning: {timeit(stmt=PRUNE_CODE, setup=dedent(SETUP), number=3)/3}\"\n",
    "        )\n",
    "\n",
    "test_agent()"
   ]
  }
 ],
 "metadata": {
  "kernelspec": {
   "display_name": "Python 3",
   "language": "python",
   "name": "python3"
  },
  "language_info": {
   "codemirror_mode": {
    "name": "ipython",
    "version": 3
   },
   "file_extension": ".py",
   "mimetype": "text/x-python",
   "name": "python",
   "nbconvert_exporter": "python",
   "pygments_lexer": "ipython3",
   "version": "3.10.5"
  },
  "orig_nbformat": 4,
  "vscode": {
   "interpreter": {
    "hash": "2d2e2e8a857acf4d435b79559f4d2f8a8badbfffac80b85159520f007dae8ed8"
   }
  }
 },
 "nbformat": 4,
 "nbformat_minor": 2
}
