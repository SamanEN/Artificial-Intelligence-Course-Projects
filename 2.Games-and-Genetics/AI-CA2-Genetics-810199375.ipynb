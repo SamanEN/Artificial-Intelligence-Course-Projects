{
 "cells": [
  {
   "attachments": {},
   "cell_type": "markdown",
   "metadata": {},
   "source": [
    "<html>\n",
    "<div style=\"background-image: linear-gradient(to left, rgb(255, 255, 255), rgb(138, 136, 136)); width: 600px; vertical-align: middle; height: 40px; margin: 10px;\">\n",
    "<h1 style=\"font-family: Georgia; color: black;\">AI-Fall 01-CA2-Part1</h1>\n",
    "</div>\n",
    "<div style=\"background-image: linear-gradient(to left, rgb(255, 255, 255), rgb(138, 136, 136)); width: 500px; margin: 10px;\">\n",
    "  <img src=\"https://upload.wikimedia.org/wikipedia/en/thumb/f/fd/University_of_Tehran_logo.svg/225px-University_of_Tehran_logo.svg.png\" width=60px width=auto style=\"padding:10px; vertical-align: middle;\">\n",
    "  <span style=\"font-family: Georgia; font-size:30px; color: black;\">University of Tehran </span>\n",
    "</div>\n",
    "<div style=\" background-image: linear-gradient(to left, rgb(255, 255, 255), rgb(138, 136, 136)); width: 400px; height: 30px; margin: 10px;\">\n",
    "  <span style=\"font-family: Georgia; font-size:15pt; color: black; vertical-align: middle;\">Saman Eslami Nazari - std id: 810199375 </span>\n",
    "</div>\n",
    "</html>"
   ]
  },
  {
   "attachments": {},
   "cell_type": "markdown",
   "metadata": {},
   "source": [
    "First I need a function to evaluate math expressions given in strings. For this purpose I will used the code below, which is taken from [this answer on Stack Overflow](https://stackoverflow.com/a/9558001/14839317)."
   ]
  },
  {
   "cell_type": "code",
   "execution_count": 1,
   "metadata": {},
   "outputs": [],
   "source": [
    "import ast\n",
    "import operator as op\n",
    "\n",
    "# supported operators\n",
    "operators = {ast.Add: op.add, ast.Sub: op.sub, ast.Mult: op.mul,\n",
    "             ast.Div: op.truediv, ast.Pow: op.pow, ast.BitXor: op.xor,\n",
    "             ast.USub: op.neg, ast.Mod: op.mod}\n",
    "\n",
    "def eval_expr(expr):\n",
    "    return eval_(ast.parse(expr, mode='eval').body)\n",
    "\n",
    "def eval_(node):\n",
    "    if isinstance(node, ast.Num): # <number>\n",
    "        return node.n\n",
    "    elif isinstance(node, ast.BinOp): # <left> <operator> <right>\n",
    "        return operators[type(node.op)](eval_(node.left), eval_(node.right))\n",
    "    elif isinstance(node, ast.UnaryOp): # <operator> <operand> e.g., -1\n",
    "        return operators[type(node.op)](eval_(node.operand))\n",
    "    else:\n",
    "        raise TypeError(node)"
   ]
  },
  {
   "attachments": {},
   "cell_type": "markdown",
   "metadata": {},
   "source": [
    "# Part 1: Clarifying basic concepts\n",
    "\n",
    "First of all we need to define our genes and chromosomes. The genes will be the given numbers and operators as different permutations of both can lead to different answers. The chromosomes will be an answers to the problem, therefore they should be a valid permutation of the genes (numbers and operators). Chromosomes will be numbers with one operator placed between every two of them. I will make sure that this constraint will be held true during crossovers and other parts of the algorithm.\n",
    "No lets create the `Chromosome` class."
   ]
  },
  {
   "cell_type": "code",
   "execution_count": 2,
   "metadata": {},
   "outputs": [],
   "source": [
    "import math\n",
    "\n",
    "\n",
    "class Chromosome:\n",
    "    def __init__(self, expr_list: list[str]):\n",
    "        self._operands = expr_list[0::2]\n",
    "        self._operators = expr_list[1::2]\n",
    "        self._expr_list = expr_list\n",
    "        self._expr = ''.join(expr_list)\n",
    "        self._len = len(expr_list)\n",
    "\n",
    "    def to_list(self) -> list[str]:\n",
    "        return self._expr_list\n",
    "\n",
    "    def change_gene(self, position: int, new_val: str) -> None:\n",
    "        self._expr_list[position] = new_val\n",
    "        self._operands = self._expr_list[0::2]\n",
    "        self._operators = self._expr_list[1::2]\n",
    "        self._expr = ''.join(self._expr_list)\n",
    "\n",
    "    def __str__(self) -> str:\n",
    "        return self._expr\n",
    "\n",
    "    def __len__(self) -> int:\n",
    "        return self._len\n",
    "\n",
    "    def __eq__(self, __o: object) -> bool:\n",
    "        return self._expr == __o._expr\n"
   ]
  },
  {
   "attachments": {},
   "cell_type": "markdown",
   "metadata": {},
   "source": [
    "# Initialize population:\n",
    "\n",
    "To initialize the chromosomes, I will create a function that gets the population size and the given operands and operators as input and returns a list of chromosomes."
   ]
  },
  {
   "cell_type": "code",
   "execution_count": 3,
   "metadata": {},
   "outputs": [],
   "source": [
    "import random\n",
    "\n",
    "\n",
    "def init_population(\n",
    "        population_size: int,\n",
    "        chrom_len: int,\n",
    "        operators: list[str],\n",
    "        operands: list[str]) -> list[Chromosome]:\n",
    "\n",
    "    population: list[Chromosome] = []\n",
    "    for _ in range(population_size):\n",
    "        current_chromo_list = [None] * chrom_len\n",
    "        current_chromo_list[0::2] =  \\\n",
    "            random.choices(operands, k=math.ceil(chrom_len / 2))\n",
    "        current_chromo_list[1::2] = \\\n",
    "            random.choices(operators, k=math.floor(chrom_len / 2))\n",
    "        population.append(Chromosome(current_chromo_list))\n",
    "    return population\n"
   ]
  },
  {
   "attachments": {},
   "cell_type": "markdown",
   "metadata": {},
   "source": [
    "# Implementation and fitness function:\n",
    "\n",
    "I will use the difference between the calculated value of the left hand side and the right hand side of the equation. The lesser this value is, the better the chromosome will be. In order to have greater score for better chromosomes, I will use the following function to transform this value to the fitness score:\n",
    "$$diff = |lhs(equation) - rhs(equation)|$$\n",
    "$$Fitness(diff) = \\frac{1}{1+diff}$$\n",
    "I used $1 + diff$ instead of $diff$ to handle the case of $diff = 0$."
   ]
  },
  {
   "cell_type": "code",
   "execution_count": 4,
   "metadata": {},
   "outputs": [],
   "source": [
    "from itertools import accumulate\n",
    "from bisect import bisect_left\n",
    "from copy import deepcopy\n",
    "\n",
    "\n",
    "def fitness_score(chrom: Chromosome, goal: int) -> int:\n",
    "    diff = abs(int(eval_expr(str(chrom))) - goal)\n",
    "    return 1 / (1 + diff)\n",
    "\n",
    "\n",
    "def select_mating_pool(\n",
    "        chroms: list[Chromosome],\n",
    "        fitness_score_list: list[int]) -> list[Chromosome]:\n",
    "\n",
    "    fitness_sum: int = sum(fitness_score_list)\n",
    "    prob_list: list[float] = [f/fitness_sum for f in fitness_score_list]\n",
    "    cum_prob_list: list[float] = list(accumulate(prob_list))\n",
    "    \n",
    "    mating_pool: list[Chromosome] = []\n",
    "    for _ in range(len(chroms)):\n",
    "        rand_point = random.uniform(0, 1)\n",
    "        chosen_chromo = bisect_left(cum_prob_list, rand_point)\n",
    "        mating_pool.append(deepcopy(chroms[chosen_chromo]))\n",
    "    return mating_pool\n"
   ]
  },
  {
   "attachments": {},
   "cell_type": "markdown",
   "metadata": {},
   "source": [
    "# Crossover, mutation and creating next generation\n",
    "\n",
    "First, lets define a `crossover` function that takes parents as input and returns the offspring."
   ]
  },
  {
   "cell_type": "code",
   "execution_count": 5,
   "metadata": {},
   "outputs": [],
   "source": [
    "def crossover(parent1: Chromosome, parent2: Chromosome) -> Chromosome:\n",
    "    child = parent1.to_list()\n",
    "    parent2_list = parent2.to_list()\n",
    "    cut_index = random.randint(0, len(child))\n",
    "    child[:cut_index], parent2_list[:cut_index] = parent2_list[:cut_index], child[:cut_index]\n",
    "    return Chromosome(child)\n"
   ]
  },
  {
   "attachments": {},
   "cell_type": "markdown",
   "metadata": {},
   "source": [
    "After that, I need to define a `mutate` function that takes a chromosome and returns the new mutated chromosome."
   ]
  },
  {
   "cell_type": "code",
   "execution_count": 6,
   "metadata": {},
   "outputs": [],
   "source": [
    "def mutate(\n",
    "        chrom: Chromosome,\n",
    "        mutation_rate: float,\n",
    "        operators: list[str],\n",
    "        operands: list[str]) -> None:\n",
    "\n",
    "    for i in range(len(chrom)):\n",
    "        if random.uniform(0, 1) > mutation_rate:\n",
    "            continue\n",
    "\n",
    "        new_gene: str\n",
    "        if i % 2 == 1:  # is operator\n",
    "            new_gene = random.choice(operators)\n",
    "        else:  # is operand\n",
    "            new_gene = random.choice(operands)\n",
    "        chrom.change_gene(i, new_gene)\n"
   ]
  },
  {
   "attachments": {},
   "cell_type": "markdown",
   "metadata": {},
   "source": [
    "Now, I will create the function `create_next_generation` that will use the previous functions to make the next generation of chromosomes."
   ]
  },
  {
   "cell_type": "code",
   "execution_count": 7,
   "metadata": {},
   "outputs": [],
   "source": [
    "def create_next_generation(\n",
    "        mating_pool: list[Chromosome],\n",
    "        cross_over_rate: float,\n",
    "        mutation_rate: float,\n",
    "        operators: list[str],\n",
    "        operands: list[str]) -> list[Chromosome]:\n",
    "\n",
    "    next_gen: list[Chromosome] = deepcopy(mating_pool)\n",
    "    for i in range(len(mating_pool)):\n",
    "        if random.uniform(0, 1) > cross_over_rate:\n",
    "            continue\n",
    "\n",
    "        next_gen[i] = crossover(\n",
    "            mating_pool[i], mating_pool[(i + 1) % len(mating_pool)]\n",
    "        )\n",
    "    for i in range(len(next_gen)):\n",
    "        mutate(next_gen[i], mutation_rate, operators, operands)\n",
    "\n",
    "    return next_gen\n"
   ]
  },
  {
   "attachments": {},
   "cell_type": "markdown",
   "metadata": {},
   "source": [
    "# Implementing the Genetic Algorithm on the problem\n",
    "\n",
    "In the end, I will gather these functions together and call them to solve the problem. First, I will create the data class `ProblemInfo` to hold the problem's information."
   ]
  },
  {
   "cell_type": "code",
   "execution_count": 8,
   "metadata": {},
   "outputs": [],
   "source": [
    "from dataclasses import dataclass\n",
    "\n",
    "\n",
    "@dataclass\n",
    "class ProblemInfo:\n",
    "    goal: int\n",
    "    operands: list[str]\n",
    "    operators: list[str]\n",
    "    eq_len: int\n"
   ]
  },
  {
   "attachments": {},
   "cell_type": "markdown",
   "metadata": {},
   "source": [
    "I will also need a `HyperParams` class for storing values of initial population size, cross over rate and mutation rate."
   ]
  },
  {
   "cell_type": "code",
   "execution_count": 9,
   "metadata": {},
   "outputs": [],
   "source": [
    "@dataclass\n",
    "class HyperParams:\n",
    "    init_population_size: int\n",
    "    cross_over_rate: float\n",
    "    mutation_rate: float\n",
    "    max_steps: int\n"
   ]
  },
  {
   "attachments": {},
   "cell_type": "markdown",
   "metadata": {},
   "source": [
    "Problem solving implementation:"
   ]
  },
  {
   "cell_type": "code",
   "execution_count": 10,
   "metadata": {},
   "outputs": [],
   "source": [
    "def g_alg_solve(problem_info: ProblemInfo, hyper_params: HyperParams) -> str:\n",
    "    problem_info = deepcopy(problem_info)\n",
    "    hyper_params = deepcopy(hyper_params)\n",
    "\n",
    "    population: list[Chromosome] = init_population(\n",
    "        hyper_params.init_population_size,\n",
    "        problem_info.eq_len,\n",
    "        problem_info.operators,\n",
    "        problem_info.operands\n",
    "    )\n",
    "\n",
    "    while hyper_params.max_steps != 0:\n",
    "        fitness_score_list = [\n",
    "            fitness_score(c, problem_info.goal) for c in population\n",
    "        ]\n",
    "\n",
    "        if 1 in fitness_score_list:\n",
    "            return str(population[fitness_score_list.index(1)])\n",
    "\n",
    "        mating_pool = select_mating_pool(population, fitness_score_list)\n",
    "        population = create_next_generation(\n",
    "            mating_pool,\n",
    "            hyper_params.cross_over_rate,\n",
    "            hyper_params.mutation_rate,\n",
    "            problem_info.operators,\n",
    "            problem_info.operands\n",
    "        )\n",
    "        hyper_params.max_steps -= 1\n"
   ]
  },
  {
   "attachments": {},
   "cell_type": "markdown",
   "metadata": {},
   "source": [
    "Testing the problem solver:"
   ]
  },
  {
   "cell_type": "code",
   "execution_count": 12,
   "metadata": {},
   "outputs": [
    {
     "name": "stdout",
     "output_type": "stream",
     "text": [
      "answer : 10-10*8*8*10*10*2-2+2*7*9*4*9\n"
     ]
    }
   ],
   "source": [
    "problem_info = ProblemInfo(\n",
    "    goal=-123456,\n",
    "    operands=['1', '2', '3', '4', '5', '6', '7', '8', '9', '10'],\n",
    "    operators=['+', '-', '*'],\n",
    "    eq_len=25\n",
    ")\n",
    "\n",
    "hyper_params = HyperParams(\n",
    "    init_population_size=100,\n",
    "    cross_over_rate=0.8,\n",
    "    mutation_rate=0.1,\n",
    "    max_steps=-1\n",
    ")\n",
    "\n",
    "print(f\"answer : {g_alg_solve(problem_info, hyper_params)}\")\n"
   ]
  }
 ],
 "metadata": {
  "kernelspec": {
   "display_name": "Python 3",
   "language": "python",
   "name": "python3"
  },
  "language_info": {
   "codemirror_mode": {
    "name": "ipython",
    "version": 3
   },
   "file_extension": ".py",
   "mimetype": "text/x-python",
   "name": "python",
   "nbconvert_exporter": "python",
   "pygments_lexer": "ipython3",
   "version": "3.10.5"
  },
  "orig_nbformat": 4,
  "vscode": {
   "interpreter": {
    "hash": "2d2e2e8a857acf4d435b79559f4d2f8a8badbfffac80b85159520f007dae8ed8"
   }
  }
 },
 "nbformat": 4,
 "nbformat_minor": 2
}
