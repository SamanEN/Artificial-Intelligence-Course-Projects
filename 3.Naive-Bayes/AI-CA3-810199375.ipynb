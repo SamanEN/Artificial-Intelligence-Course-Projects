{
 "cells": [
  {
   "attachments": {},
   "cell_type": "markdown",
   "metadata": {},
   "source": [
    "<html>\n",
    "<div style=\"background-image: linear-gradient(to left, rgb(255, 255, 255), rgb(138, 136, 136)); width: 600px; vertical-align: middle; height: 40px; margin: 10px;\">\n",
    "<h1 style=\"font-family: Georgia; color: black;\">AI-Fall 01-CA3</h1>\n",
    "</div>\n",
    "<div style=\"background-image: linear-gradient(to left, rgb(255, 255, 255), rgb(138, 136, 136)); width: 500px; margin: 10px;\">\n",
    "  <img src=\"https://upload.wikimedia.org/wikipedia/en/thumb/f/fd/University_of_Tehran_logo.svg/225px-University_of_Tehran_logo.svg.png\" width=60px width=auto style=\"padding:10px; vertical-align: middle;\">\n",
    "  <span style=\"font-family: Georgia; font-size:30px; color: black;\">University of Tehran </span>\n",
    "</div>\n",
    "<div style=\" background-image: linear-gradient(to left, rgb(255, 255, 255), rgb(138, 136, 136)); width: 400px; height: 30px; margin: 10px;\">\n",
    "  <span style=\"font-family: Georgia; font-size:15pt; color: black; vertical-align: middle;\">Saman Eslami Nazari - std id: 810199375 </span>\n",
    "</div>\n",
    "</html>"
   ]
  },
  {
   "attachments": {},
   "cell_type": "markdown",
   "metadata": {},
   "source": [
    "# Preprocessing"
   ]
  },
  {
   "cell_type": "code",
   "execution_count": 1,
   "metadata": {},
   "outputs": [],
   "source": [
    "import pandas as pd\n",
    "\n",
    "TRAIN_FILE_PATH = \"./dataset/train.csv\"\n",
    "TEST_FILE_PATH = \"./dataset/test.csv\"\n",
    "\n",
    "train_df = pd.read_csv(TRAIN_FILE_PATH)\n",
    "test_df = pd.read_csv(TEST_FILE_PATH)"
   ]
  },
  {
   "attachments": {},
   "cell_type": "markdown",
   "metadata": {},
   "source": [
    "First I will use the `Hazm` package to normalize the text. I will use different strategies and see their effects on accuracy and performance."
   ]
  },
  {
   "cell_type": "code",
   "execution_count": 2,
   "metadata": {},
   "outputs": [],
   "source": [
    "import hazm\n",
    "\n",
    "def normalize_df(df: pd.DataFrame) -> None:\n",
    "    normalizer = hazm.Normalizer()\n",
    "    df['content'] = df['content'].apply(normalizer.normalize)"
   ]
  },
  {
   "cell_type": "code",
   "execution_count": 3,
   "metadata": {},
   "outputs": [],
   "source": [
    "def tokenize_df(df: pd.DataFrame) -> None:\n",
    "    word_tokenizer = hazm.WordTokenizer()\n",
    "    df['content'] = df['content'].apply(word_tokenizer.tokenize)\n",
    "\n",
    "# removing stop words\n",
    "\n",
    "\n",
    "def rm_stop_words(df: pd.DataFrame) -> None:\n",
    "    stop_words_set = set(hazm.stopwords_list())\n",
    "    def stop_words_lambda(x): return [i for i in x if i not in stop_words_set]\n",
    "    df['content'] = df['content'].apply(stop_words_lambda)\n",
    "\n",
    "\n",
    "# removing punctuations\n",
    "def rm_punctuations(df: pd.DataFrame) -> None:\n",
    "    punctuations_set = set(['،', ':', '.', '؛', ')',\n",
    "                           '(', '\"', '»', '«', '{', '}', '[', ']', '!', '؟', '?', ';', ','])\n",
    "\n",
    "    def remove_punctuations(x): return [\n",
    "        i for i in x if i not in punctuations_set\n",
    "    ]\n",
    "    df['content'] = df['content'].apply(remove_punctuations)\n"
   ]
  },
  {
   "attachments": {},
   "cell_type": "markdown",
   "metadata": {},
   "source": [
    "### Stemming\n",
    "Stemming is a text normalization method that removes letters from the end or the start of a word. Stemming a word doesn't necessarily result in a meaningful word; It doesn't consider the meaning of the word. Stemming is fast but less accurate than other methods like lemmatizing."
   ]
  },
  {
   "cell_type": "code",
   "execution_count": 4,
   "metadata": {},
   "outputs": [],
   "source": [
    "def stem_df(df: pd.DataFrame) -> None:\n",
    "    stemmer = hazm.Stemmer()\n",
    "    def stemming_lambda(x): return [stemmer.stem(i) for i in x]\n",
    "    df['content'] = df['content'].apply(stemming_lambda)\n"
   ]
  },
  {
   "attachments": {},
   "cell_type": "markdown",
   "metadata": {},
   "source": [
    "### Lemmatizing\n",
    "This is another method for normalizing the text. Lemmatizing is used to convert a word into its dictionary form. It considers the meaning of the word. It is usually done based on a long list of root words and takes much more time than stemming. It's more accurate though."
   ]
  },
  {
   "cell_type": "code",
   "execution_count": 5,
   "metadata": {},
   "outputs": [],
   "source": [
    "def lemmatize_df(df: pd.DataFrame) -> None:\n",
    "    lemmatizer = hazm.Lemmatizer()\n",
    "    def lemmatizing_lambda(x): return [lemmatizer.lemmatize(word).split('#', 1)[0] for word in x]\n",
    "    df['content'] = df['content'].apply(lemmatizing_lambda)\n"
   ]
  },
  {
   "cell_type": "code",
   "execution_count": 6,
   "metadata": {},
   "outputs": [],
   "source": [
    "def preprocess_data(df: pd.DataFrame) -> None:\n",
    "    normalize_df(df)\n",
    "    tokenize_df(df)\n",
    "    rm_punctuations(df)\n",
    "    rm_stop_words(df)\n",
    "    lemmatize_df(df)\n",
    "    rm_stop_words(df)"
   ]
  },
  {
   "cell_type": "code",
   "execution_count": 7,
   "metadata": {},
   "outputs": [],
   "source": [
    "preprocess_data(train_df)\n",
    "preprocess_data(test_df)"
   ]
  },
  {
   "attachments": {},
   "cell_type": "markdown",
   "metadata": {},
   "source": [
    "# The Process of the Problem"
   ]
  },
  {
   "attachments": {},
   "cell_type": "markdown",
   "metadata": {},
   "source": [
    "### Bayes Theorem\n",
    "$$P(c|x)=\\frac{P(x|c)\\times P(c)}{P(x)}$$\n",
    "$$P(c|x)=P(x_1|c)\\times P(x_2|c)\\times ...\\times P(x_n|c)\\times P(c)$$"
   ]
  },
  {
   "attachments": {},
   "cell_type": "markdown",
   "metadata": {},
   "source": [
    "- Posterior Probability $P(c|x)$:<br>\n",
    "This is the probability of $c$ in case of seeing $x$. Here it is equal to the probability the news having the label $c$ in case of seeing the word $x$ in it.\n",
    "\n",
    "- Likelihood $P(x|c)$:<br>\n",
    "Probability of $x$ in case of $c$. In this project, it is equal to the probability of seeing word $x$ while reading a news with the label $c$.\n",
    "\n",
    "- Prior $P(c)$:<br>\n",
    "Probability of having the class $c$. Here, this is equal to the number of news in class $c$ divided by the total count of news.\n",
    "\n",
    "- Evidence $P(x)$:<br>\n",
    "The probability of seeing word $x$ in a news. This is equal to the total count of $x$ occurrences in every news (without regarding their labels) divided by the total count of the words in the whole dataset."
   ]
  },
  {
   "attachments": {},
   "cell_type": "markdown",
   "metadata": {},
   "source": [
    "### Bigrams\n",
    "- What will happen if she leaves him.\n",
    "- In autumn, Leaves fall.\n",
    "\n",
    "In the first example, our bigram would be \"leaves him\" which is used as a verb and is beside the word \"him\"; With this bigram we can deduct that this \"leaves\" is not the plural form of the \"leaf\". In the second example though, the bigram will be \"Leaves fall\". This can help us to determine which \"leaves\" is used here.<br>\n",
    "In this example we won't need a longer n-gram, and bigram is enough."
   ]
  },
  {
   "attachments": {},
   "cell_type": "markdown",
   "metadata": {},
   "source": [
    "To implement the bayesian classifier, I will first group the labels column and gather each label's words into a single row. Then I will count each label's words and map it to the corresponding label."
   ]
  },
  {
   "cell_type": "code",
   "execution_count": 8,
   "metadata": {},
   "outputs": [],
   "source": [
    "def map_words_cnt(df: pd.DataFrame, labels: list[str]) -> dict[str, pd.Series]:\n",
    "    train_words_cnt_label_map: dict[str, pd.Series] = {}\n",
    "\n",
    "    for label in labels:\n",
    "        current_label_words = \\\n",
    "            df.loc[df['label'] == label]['content'].apply(pd.Series).\\\n",
    "            stack().reset_index(drop=True)\n",
    "\n",
    "        train_words_cnt_label_map[label] = current_label_words.value_counts()\n",
    "    return train_words_cnt_label_map\n"
   ]
  },
  {
   "attachments": {},
   "cell_type": "markdown",
   "metadata": {},
   "source": [
    "After counting words of each label and creating the map we wanted, I will need to calculate the probability of each feature. $P(word|label)$ is what we're looking for. As the value of $P$ might become too low, I will save its logarithm value to prevent the miscalculations due to floating point error."
   ]
  },
  {
   "cell_type": "code",
   "execution_count": 9,
   "metadata": {},
   "outputs": [],
   "source": [
    "import math\n",
    "\n",
    "def calc_prob(words_cnt: pd.Series) -> pd.Series:\n",
    "    result = pd.Series(index=words_cnt.index)\n",
    "    total_words_cnt = words_cnt.sum()\n",
    "    for word, count in words_cnt.items():\n",
    "        result[word] = math.log2(count / total_words_cnt)\n",
    "    return result\n"
   ]
  },
  {
   "attachments": {},
   "cell_type": "markdown",
   "metadata": {},
   "source": [
    "Now, its time to predict labels. For this purpose I will write the `predict_label` function that will get a text and the `words probability : label` map as inputs and return the predicted label. It will iterate over each word on the text and product the $P(word|label)$ s. Then it will choose the product with maximum value."
   ]
  },
  {
   "attachments": {},
   "cell_type": "markdown",
   "metadata": {},
   "source": [
    "## Additive Smoothing"
   ]
  },
  {
   "attachments": {},
   "cell_type": "markdown",
   "metadata": {},
   "source": [
    "Sometime we might encounter a feature that was not seen before. In that case, the probability of that feature in case of a label becomes zero; Therefore the Naive Bayes solution will say that the text with this specific feature does not belong to a label; This decision is too pessimistic and can be wrong very often.\n",
    "A solution to this problem is \"Additive Smoothing\". To avoid zero probability of unseen features, we will add a noise ($\\alpha$) to $P(feature|class)$:\n",
    "$$P(w|c)=\\frac{total\\: count\\: of\\: ws\\: in\\: c+\\alpha}{total\\: words\\: in\\: c + \\alpha \\times number\\: of\\: unique\\: words\\: in\\: c}$$\n",
    "To apply additive smoothing, I will rewrite the `calc_prob` based on the aforementioned formula:"
   ]
  },
  {
   "cell_type": "code",
   "execution_count": 10,
   "metadata": {},
   "outputs": [],
   "source": [
    "def calc_prob_additive_smoothing(alpha: float, words_cnt: pd.Series) -> pd.Series:\n",
    "    result = pd.Series(index=words_cnt.index)\n",
    "    total_words_cnt = words_cnt.sum()\n",
    "    unique_words_count = len(words_cnt.index)\n",
    "    for word, count in words_cnt.items():\n",
    "        result[word] = math.log2((count + alpha) / (total_words_cnt + alpha * unique_words_count))\n",
    "    return result"
   ]
  },
  {
   "cell_type": "code",
   "execution_count": 11,
   "metadata": {},
   "outputs": [],
   "source": [
    "from typing import Callable\n",
    "\n",
    "\n",
    "def map_words_prob(calc_prob: Callable[[pd.Series], None], words_cnt_map: dict[str, pd.Series]) -> dict[str, pd.Series]:\n",
    "    result: dict[str, pd.Series] = {x: None for x in words_cnt_map.keys()}\n",
    "    for word, count in words_cnt_map.items():\n",
    "        result[word] = calc_prob(count)\n",
    "    return result\n",
    "\n",
    "\n",
    "def labels_prob(words_cnt_map: dict[str, pd.Series], labels: list[str]) -> dict[str, float]:\n",
    "    result: dict[str, float] = {}\n",
    "    total_labels_count: int = 0\n",
    "    for label, words_cnt in words_cnt_map.items():\n",
    "        total_labels_count += words_cnt.sum()\n",
    "    for label in labels:\n",
    "        result[label] = words_cnt_map[label].sum() / total_labels_count\n",
    "    return result\n"
   ]
  },
  {
   "attachments": {},
   "cell_type": "markdown",
   "metadata": {},
   "source": [
    "For simplicity and a cleaner code, I will create the `ProbMap` class that will abstract the above functions and provide a uniform interface to access probabilities, whether additive smoothing is activated or not."
   ]
  },
  {
   "cell_type": "code",
   "execution_count": 12,
   "metadata": {},
   "outputs": [],
   "source": [
    "from typing import Optional\n",
    "from functools import partial\n",
    "\n",
    "\n",
    "class ProbMap:\n",
    "    def __init__(\n",
    "            self,\n",
    "            df: pd.DataFrame,\n",
    "            labels: list[str],\n",
    "            additive_smoothing: Optional[bool] = False,\n",
    "            alpha: Optional[float] = 1):\n",
    "\n",
    "        self._additive_smoothing = additive_smoothing\n",
    "        self._alpha = alpha\n",
    "        self._labels = labels\n",
    "        self._words_cnt_map = map_words_cnt(df, self._labels)\n",
    "        self._labels_prob = labels_prob(self._words_cnt_map, self._labels)\n",
    "        prob_calculator = None\n",
    "        if additive_smoothing:\n",
    "            prob_calculator = partial(calc_prob_additive_smoothing, alpha)\n",
    "        else:\n",
    "            prob_calculator = calc_prob\n",
    "\n",
    "        self._words_prob_map = map_words_prob(\n",
    "            prob_calculator, self._words_cnt_map\n",
    "        )\n",
    "\n",
    "    def get_word_prob(self, word: str, label: str) -> float:\n",
    "        if word in self._words_prob_map[label]:\n",
    "            return self._words_prob_map[label][word]\n",
    "        if self._additive_smoothing:\n",
    "            return math.log(\n",
    "                self._alpha /\n",
    "                (self._words_cnt_map[label].sum() +\n",
    "                 len(self._words_cnt_map[label].index.unique()) * self._alpha)\n",
    "            )\n",
    "        return -math.inf\n",
    "\n",
    "    def get_labels_prob(self, label) -> float:\n",
    "        return self._labels_prob[label]\n"
   ]
  },
  {
   "attachments": {},
   "cell_type": "markdown",
   "metadata": {},
   "source": [
    "In the end I shall write a function that will get the test dataset and predict its labels."
   ]
  },
  {
   "cell_type": "code",
   "execution_count": 13,
   "metadata": {},
   "outputs": [],
   "source": [
    "def predict_label(\n",
    "    text: list[str],\n",
    "    prob_map: ProbMap,\n",
    "    labels: list[str]) -> str | None:\n",
    "\n",
    "    result_map: dict[str, float] = {x : 0 for x in labels}\n",
    "\n",
    "    for label in labels:\n",
    "        cur_prob = 0\n",
    "        for word in text:\n",
    "            cur_prob += prob_map.get_word_prob(word, label)\n",
    "        result_map[label] = cur_prob + prob_map.get_labels_prob(label)\n",
    "\n",
    "    if max(result_map.values()) == -math.inf:\n",
    "        return None\n",
    "    return max(result_map, key=result_map.get)\n"
   ]
  },
  {
   "cell_type": "code",
   "execution_count": 14,
   "metadata": {},
   "outputs": [],
   "source": [
    "from copy import deepcopy\n",
    "\n",
    "def predict_dataset(df: pd.DataFrame, words_prob_map: ProbMap, labels: list[str]) -> pd.DataFrame:\n",
    "    result_df = deepcopy(df)\n",
    "    predict_list: list[str] = []\n",
    "    for index, row in df.iterrows():\n",
    "        predict_list.append(predict_label(row['content'], words_prob_map, labels))\n",
    "    result_df.insert(len(result_df.columns), 'predicted_label', predict_list)\n",
    "    return result_df\n"
   ]
  },
  {
   "attachments": {},
   "cell_type": "markdown",
   "metadata": {},
   "source": [
    "# Correctness "
   ]
  },
  {
   "cell_type": "code",
   "execution_count": 15,
   "metadata": {},
   "outputs": [
    {
     "name": "stderr",
     "output_type": "stream",
     "text": [
      "C:\\Users\\Emertat\\AppData\\Local\\Temp\\ipykernel_16632\\2781065564.py:6: FutureWarning: The default dtype for empty Series will be 'object' instead of 'float64' in a future version. Specify a dtype explicitly to silence this warning.\n",
      "  df.loc[df['label'] == label]['content'].apply(pd.Series).\\\n"
     ]
    }
   ],
   "source": [
    "labels = train_df['label'].unique()\n",
    "\n",
    "words_cnt_map = map_words_cnt(train_df, labels)\n",
    "\n",
    "for label, words_count in words_cnt_map.items():\n",
    "    words_cnt_map[label] = words_count.nlargest(5)\n"
   ]
  },
  {
   "cell_type": "code",
   "execution_count": 16,
   "metadata": {},
   "outputs": [
    {
     "data": {
      "image/png": "[encoded data removed]",
      "text/plain": [
       "<Figure size 1440x1080 with 6 Axes>"
      ]
     },
     "metadata": {
      "needs_background": "light"
     },
     "output_type": "display_data"
    }
   ],
   "source": [
    "import matplotlib.pyplot as plt\n",
    "from arabic_reshaper import reshape\n",
    "from bidi.algorithm import get_display\n",
    "\n",
    "fig, axes = plt.subplots(\n",
    "    nrows=2, ncols=math.ceil(len(words_cnt_map)/2), figsize=(20, 15)\n",
    ")\n",
    "fig.tight_layout(pad=5.0)\n",
    "\n",
    "ax_index = 0\n",
    "for label, count in words_cnt_map.items():\n",
    "    axes.flatten()[ax_index].bar(\n",
    "        [get_display(reshape(word)) for word in count.index],\n",
    "        [x[1] for x in count.items()]\n",
    "    )\n",
    "    axes.flatten()[ax_index].title.set_text(get_display(reshape(label)))\n",
    "    ax_index += 1\n"
   ]
  },
  {
   "attachments": {},
   "cell_type": "markdown",
   "metadata": {},
   "source": [
    "# Evaluation"
   ]
  },
  {
   "attachments": {},
   "cell_type": "markdown",
   "metadata": {},
   "source": [
    "## Accuracy\n",
    "To calculate the accuracy of a predicted dataset, I will simply count the number of labels that are predicted correctly (that is rows with $predicted\\: label = actual\\: label$) and divide it by the total count of rows:\n",
    "$$Accuracy = \\frac{Correctly\\: predicted}{Total}$$"
   ]
  },
  {
   "cell_type": "code",
   "execution_count": 17,
   "metadata": {},
   "outputs": [],
   "source": [
    "def accuracy(y: pd.Series, y_pred: pd.Series) -> float:\n",
    "    df = pd.DataFrame({'y': y, 'y_pred': y_pred})\n",
    "    return df[df['y'] == df['y_pred']].shape[0] / df.shape[0]\n"
   ]
  },
  {
   "attachments": {},
   "cell_type": "markdown",
   "metadata": {},
   "source": [
    "## Precision\n",
    "Precision is calculated for each class. It is equal to the number of the correctly predicted values in a single class, divided by the total number of the rows that were predicted to belong to that class (whether it's wrong or right):\n",
    "$$Precision[c] = \\frac{Correctly\\: predicted\\: to\\: be\\: in\\: class\\: c}{Total\\: predictions\\: of\\: class\\: c}$$"
   ]
  },
  {
   "cell_type": "code",
   "execution_count": 18,
   "metadata": {},
   "outputs": [],
   "source": [
    "def precision(y: pd.Series, y_pred: pd.Series) -> dict[str, float]:\n",
    "    df = pd.DataFrame({'y': y, 'y_pred': y_pred})\n",
    "    labels = list(y.unique())\n",
    "    result: dict[str, float] = {x: 0 for x in labels}\n",
    "    for label in labels:\n",
    "        result[label] = \\\n",
    "            df[(df['y'] == df['y_pred']) & (df['y'] == label)].shape[0] / \\\n",
    "            df[df['y_pred'] == label].shape[0]\n",
    "    return result\n"
   ]
  },
  {
   "attachments": {},
   "cell_type": "markdown",
   "metadata": {},
   "source": [
    "## Recall\n",
    "Recall is very similar to Precision; Their only difference is that instead of dividing the fraction by the $Total predictions of class c$, we will divide it by the rows that actually belong to the class c:\n",
    "$$Recall[c] = \\frac{Correctly\\: predicted\\: to\\: be\\: in\\: c}{Total\\: class}$$"
   ]
  },
  {
   "cell_type": "code",
   "execution_count": 19,
   "metadata": {},
   "outputs": [],
   "source": [
    "def recall(y: pd.Series, y_pred: pd.Series) -> dict[str, float]:\n",
    "    df = pd.DataFrame({'y': y, 'y_pred': y_pred})\n",
    "    labels = list(y.unique())\n",
    "    result: dict[str, float] = {x: 0 for x in labels}\n",
    "    for label in labels:\n",
    "        result[label] = \\\n",
    "            df[(df['y'] == df['y_pred']) & (df['y'] == label)].shape[0] / \\\n",
    "            df[df['y'] == label].shape[0]\n",
    "    return result"
   ]
  },
  {
   "attachments": {},
   "cell_type": "markdown",
   "metadata": {},
   "source": [
    "### Precision vs Recall\n",
    "Precision indicates how many of our predictions where correct. For example if we calculate the precision of our model in class c, it'll tell us how many of the rows that were predicted to be in c were actually in c.<br>\n",
    "Recall on the other hand will tell us how many of the rows that were actually in class c, were predicted to be in c.<br>\n",
    "Precision or recall should not be used without the other one. Consider a model that among 100 news with label c, predicts 10 of them to have the label c but doesn't predict the other 90 correctly. In this case, the model has a precision of 100% but isn't preforming very good with recall method. Take another model that predicts every news to have the label c. Ofcourse this model has a recall of 100% percent, but it doesn't have a good precision."
   ]
  },
  {
   "attachments": {},
   "cell_type": "markdown",
   "metadata": {},
   "source": [
    "## F1\n",
    "F1 uses a harmonic average of recall and precision. Its different with normal averaging is that it gives more weight to the lower values. For example if we have a precision of 100% and a recall of 0%, The F1 will be 0.\n",
    "$$F1 = 2\\times \\frac{Precision \\times Recall}{Precision + Recall}$$"
   ]
  },
  {
   "cell_type": "code",
   "execution_count": 20,
   "metadata": {},
   "outputs": [],
   "source": [
    "def f1(y: pd.Series, y_pred: pd.Series) -> dict[str, float]:\n",
    "    precision_dict = precision(y, y_pred)\n",
    "    recall_dict = recall(y, y_pred)\n",
    "\n",
    "    labels = list(y.unique())\n",
    "    result: dict[str, float] = {x: 0 for x in labels}\n",
    "    for label in labels:\n",
    "        result[label] = \\\n",
    "            2 * (precision_dict[label] * recall_dict[label]) / \\\n",
    "            (precision_dict[label] + recall_dict[label])\n",
    "\n",
    "    return result\n"
   ]
  },
  {
   "attachments": {},
   "cell_type": "markdown",
   "metadata": {},
   "source": [
    "### Macro Avg\n",
    "This is the average of a metric for each class in the model. Here we will only calculate Macro F1:"
   ]
  },
  {
   "cell_type": "code",
   "execution_count": 21,
   "metadata": {},
   "outputs": [],
   "source": [
    "def macro_f1(y: pd.Series, y_pred: pd.Series) -> float:\n",
    "    f1_dict = f1(y, y_pred)\n",
    "    result: float = 0\n",
    "    for label, f1_value in f1_dict.items():\n",
    "        result += f1_value\n",
    "    result /= len(f1_dict)\n",
    "    return result"
   ]
  },
  {
   "attachments": {},
   "cell_type": "markdown",
   "metadata": {},
   "source": [
    "### Weighted Avg\n",
    "It is the weighted average of a metric with weights equal to the count of samples in each class. Again, I will only calculate the weighted average of f1:"
   ]
  },
  {
   "cell_type": "code",
   "execution_count": 22,
   "metadata": {},
   "outputs": [],
   "source": [
    "def weighted_f1(y: pd.Series, y_pred: pd.Series) -> float:\n",
    "    f1_dict = f1(y, y_pred)\n",
    "    weights: dict[str, int] = {\n",
    "        l: y.value_counts()[l] for l in y.unique()\n",
    "    }\n",
    "\n",
    "    result: float = 0\n",
    "    weights_sum = 0\n",
    "    for label, f1_value in f1_dict.items():\n",
    "        result += f1_value * weights[label]\n",
    "        weights_sum += weights[label]\n",
    "    result /= weights_sum\n",
    "    return result"
   ]
  },
  {
   "attachments": {},
   "cell_type": "markdown",
   "metadata": {},
   "source": [
    "### Micro Avg\n",
    "This is the average of metrics if all classes were the same. Micro recall, Micro precision, Micro F1 and accuracy are all the same:"
   ]
  },
  {
   "cell_type": "code",
   "execution_count": 23,
   "metadata": {},
   "outputs": [],
   "source": [
    "def micro_f1(y: pd.Series, y_pred: pd.Series) -> float:\n",
    "    return accuracy(y, y_pred)\n"
   ]
  },
  {
   "attachments": {},
   "cell_type": "markdown",
   "metadata": {},
   "source": [
    "Now lets use all of the aforementioned methods to access out model."
   ]
  },
  {
   "cell_type": "code",
   "execution_count": 24,
   "metadata": {},
   "outputs": [],
   "source": [
    "def print_precision(predicted_dataset: pd.DataFrame, labels: list[str]) -> None:\n",
    "    print(\"- Precision:\")\n",
    "    precision_dict = precision(\n",
    "        predicted_dataset['label'], predicted_dataset['predicted_label']\n",
    "    )\n",
    "    for label in labels:\n",
    "        print(f\"\\t- {label}: {precision_dict[label]}\")\n",
    "\n",
    "\n",
    "def print_recall(predicted_dataset: pd.DataFrame, labels: list[str]) -> None:\n",
    "    print(\"- Recall:\")\n",
    "    recall_dict = recall(\n",
    "        predicted_dataset['label'], predicted_dataset['predicted_label']\n",
    "    )\n",
    "    for label in labels:\n",
    "        print(f\"\\t- {label}: {recall_dict[label]}\")\n",
    "\n",
    "\n",
    "def print_f1(predicted_dataset: pd.DataFrame, labels: list[str]) -> None:\n",
    "    print(\"- F1:\")\n",
    "    f1_dict = f1(\n",
    "        predicted_dataset['label'], predicted_dataset['predicted_label']\n",
    "    )\n",
    "    for label in labels:\n",
    "        print(f\"\\t- {label}: {f1_dict[label]}\")\n"
   ]
  },
  {
   "attachments": {},
   "cell_type": "markdown",
   "metadata": {},
   "source": [
    "### Without Additive Smoothing"
   ]
  },
  {
   "cell_type": "code",
   "execution_count": 25,
   "metadata": {},
   "outputs": [
    {
     "name": "stderr",
     "output_type": "stream",
     "text": [
      "C:\\Users\\Emertat\\AppData\\Local\\Temp\\ipykernel_16632\\2781065564.py:6: FutureWarning: The default dtype for empty Series will be 'object' instead of 'float64' in a future version. Specify a dtype explicitly to silence this warning.\n",
      "  df.loc[df['label'] == label]['content'].apply(pd.Series).\\\n",
      "C:\\Users\\Emertat\\AppData\\Local\\Temp\\ipykernel_16632\\3824479153.py:4: FutureWarning: The default dtype for empty Series will be 'object' instead of 'float64' in a future version. Specify a dtype explicitly to silence this warning.\n",
      "  result = pd.Series(index=words_cnt.index)\n"
     ]
    },
    {
     "name": "stdout",
     "output_type": "stream",
     "text": [
      "- Accuracy: 0.17668161434977578\n",
      "- Precision:\n",
      "\t- فناوری: 0.7083333333333334\n",
      "\t- ورزشی: 0.9555555555555556\n",
      "\t- حوادث: 0.8484848484848485\n",
      "\t- سلامت: 0.96\n",
      "\t- سیاسی: 0.8363636363636363\n",
      "\t- فرهنگی/هنری: 0.8478260869565217\n",
      "- Recall:\n",
      "\t- فناوری: 0.10119047619047619\n",
      "\t- ورزشی: 0.22631578947368422\n",
      "\t- حوادث: 0.14\n",
      "\t- سلامت: 0.13559322033898305\n",
      "\t- سیاسی: 0.23\n",
      "\t- فرهنگی/هنری: 0.21666666666666667\n",
      "- F1:\n",
      "\t- فناوری: 0.17708333333333334\n",
      "\t- ورزشی: 0.36595744680851067\n",
      "\t- حوادث: 0.240343347639485\n",
      "\t- سلامت: 0.2376237623762376\n",
      "\t- سیاسی: 0.36078431372549014\n",
      "\t- فرهنگی/هنری: 0.3451327433628319\n",
      "- Macro F1: 0.2878208245409814\n",
      "- Weighted F1: 0.29030560261212185\n",
      "- Micro F1: 0.17668161434977578\n"
     ]
    }
   ],
   "source": [
    "labels = list(train_df['label'].unique())\n",
    "\n",
    "non_smoothed_prob_map = ProbMap(train_df, labels, False)\n",
    "non_smoothed_predicts = predict_dataset(test_df, non_smoothed_prob_map, labels)\n",
    "\n",
    "print(\n",
    "    f\"- Accuracy: {accuracy(non_smoothed_predicts['label'], non_smoothed_predicts['predicted_label'])}\"\n",
    ")\n",
    "\n",
    "print_precision(non_smoothed_predicts, labels)\n",
    "print_recall(non_smoothed_predicts, labels)\n",
    "print_f1(non_smoothed_predicts, labels)\n",
    "\n",
    "print(\n",
    "    f\"- Macro F1: {macro_f1(non_smoothed_predicts['label'], non_smoothed_predicts['predicted_label'])}\"\n",
    ")\n",
    "print(\n",
    "    f\"- Weighted F1: {weighted_f1(non_smoothed_predicts['label'], non_smoothed_predicts['predicted_label'])}\"\n",
    ")\n",
    "print(\n",
    "    f\"- Micro F1: {micro_f1(non_smoothed_predicts['label'], non_smoothed_predicts['predicted_label'])}\"\n",
    ")\n"
   ]
  },
  {
   "attachments": {},
   "cell_type": "markdown",
   "metadata": {},
   "source": [
    "### With Additive Smoothing"
   ]
  },
  {
   "cell_type": "code",
   "execution_count": 26,
   "metadata": {},
   "outputs": [
    {
     "name": "stderr",
     "output_type": "stream",
     "text": [
      "C:\\Users\\Emertat\\AppData\\Local\\Temp\\ipykernel_16632\\2781065564.py:6: FutureWarning: The default dtype for empty Series will be 'object' instead of 'float64' in a future version. Specify a dtype explicitly to silence this warning.\n",
      "  df.loc[df['label'] == label]['content'].apply(pd.Series).\\\n",
      "C:\\Users\\Emertat\\AppData\\Local\\Temp\\ipykernel_16632\\3798648905.py:2: FutureWarning: The default dtype for empty Series will be 'object' instead of 'float64' in a future version. Specify a dtype explicitly to silence this warning.\n",
      "  result = pd.Series(index=words_cnt.index)\n"
     ]
    },
    {
     "name": "stdout",
     "output_type": "stream",
     "text": [
      "- Accuracy: 0.9210762331838565\n",
      "- Precision:\n",
      "\t- فناوری: 0.9612903225806452\n",
      "\t- ورزشی: 0.9526315789473684\n",
      "\t- حوادث: 0.8326180257510729\n",
      "\t- سلامت: 0.9710982658959537\n",
      "\t- سیاسی: 0.8815165876777251\n",
      "\t- فرهنگی/هنری: 0.9738562091503268\n",
      "- Recall:\n",
      "\t- فناوری: 0.8869047619047619\n",
      "\t- ورزشی: 0.9526315789473684\n",
      "\t- حوادث: 0.97\n",
      "\t- سلامت: 0.9491525423728814\n",
      "\t- سیاسی: 0.93\n",
      "\t- فرهنگی/هنری: 0.8277777777777777\n",
      "- F1:\n",
      "\t- فناوری: 0.9226006191950464\n",
      "\t- ورزشی: 0.9526315789473683\n",
      "\t- حوادث: 0.8960739030023094\n",
      "\t- سلامت: 0.96\n",
      "\t- سیاسی: 0.9051094890510948\n",
      "\t- فرهنگی/هنری: 0.8948948948948948\n",
      "- Macro F1: 0.9218850808484523\n",
      "- Weighted F1: 0.921286693736798\n",
      "- Micro F1: 0.9210762331838565\n"
     ]
    }
   ],
   "source": [
    "smoothed_prob_map = ProbMap(train_df, labels, True, 1)\n",
    "smoothed_predicts = predict_dataset(test_df, smoothed_prob_map, labels)\n",
    "\n",
    "print(\n",
    "    f\"- Accuracy: {accuracy(smoothed_predicts['label'], smoothed_predicts['predicted_label'])}\"\n",
    ")\n",
    "\n",
    "print_precision(smoothed_predicts, labels)\n",
    "print_recall(smoothed_predicts, labels)\n",
    "print_f1(smoothed_predicts, labels)\n",
    "\n",
    "print(\n",
    "    f\"- Macro F1: {macro_f1(smoothed_predicts['label'], smoothed_predicts['predicted_label'])}\"\n",
    ")\n",
    "print(\n",
    "    f\"- Weighted F1: {weighted_f1(smoothed_predicts['label'], smoothed_predicts['predicted_label'])}\"\n",
    ")\n",
    "print(\n",
    "    f\"- Micro F1: {micro_f1(smoothed_predicts['label'], smoothed_predicts['predicted_label'])}\"\n",
    ")"
   ]
  },
  {
   "attachments": {},
   "cell_type": "markdown",
   "metadata": {},
   "source": [
    "### Analyzing Differences\n",
    "The model doesn't behave well without additive smoothing. This is because of the problem mentioned in the \"Additive Smoothing\" section. There are words on the test dataset that didn't exist in training dataset, Therefore the classifier will not predict it to have any label. But it does have good results in precision; This is because if we have a text that we have observed its words in the training set before, we will be able to predict its label with more confidence. On the other hand, the classifier with additive smoothing can perform better in general. the reason behind this was mentioned in the \"Additive Smoothing\" section."
   ]
  },
  {
   "cell_type": "code",
   "execution_count": 27,
   "metadata": {},
   "outputs": [
    {
     "data": {
      "text/html": [
       "<div>\n",
       "<style scoped>\n",
       "    .dataframe tbody tr th:only-of-type {\n",
       "        vertical-align: middle;\n",
       "    }\n",
       "\n",
       "    .dataframe tbody tr th {\n",
       "        vertical-align: top;\n",
       "    }\n",
       "\n",
       "    .dataframe thead th {\n",
       "        text-align: right;\n",
       "    }\n",
       "</style>\n",
       "<table border=\"1\" class=\"dataframe\">\n",
       "  <thead>\n",
       "    <tr style=\"text-align: right;\">\n",
       "      <th></th>\n",
       "      <th>label</th>\n",
       "      <th>content</th>\n",
       "      <th>predicted_label</th>\n",
       "    </tr>\n",
       "  </thead>\n",
       "  <tbody>\n",
       "    <tr>\n",
       "      <th>0</th>\n",
       "      <td>فناوری</td>\n",
       "      <td>[اعلام, لیس, ۲۳, شرکت, مجاز, ثبت, سفارش, ارائه...</td>\n",
       "      <td>None</td>\n",
       "    </tr>\n",
       "    <tr>\n",
       "      <th>1</th>\n",
       "      <td>فرهنگی/هنری</td>\n",
       "      <td>[استاد, علم, قرائت, قرآن, کریم, ریشه, موسیقی, ...</td>\n",
       "      <td>None</td>\n",
       "    </tr>\n",
       "    <tr>\n",
       "      <th>2</th>\n",
       "      <td>حوادث</td>\n",
       "      <td>[آتش, سوزی‌های, زنجیره, جنگل, زاگرس, استان, ای...</td>\n",
       "      <td>None</td>\n",
       "    </tr>\n",
       "    <tr>\n",
       "      <th>3</th>\n",
       "      <td>فناوری</td>\n",
       "      <td>[استفاده, سرویس‌های, iMassage, Facetime, محصول...</td>\n",
       "      <td>None</td>\n",
       "    </tr>\n",
       "    <tr>\n",
       "      <th>4</th>\n",
       "      <td>حوادث</td>\n",
       "      <td>[دادستان, عموم, انقلاب, یاسوج, ۱۰, میلیون, دلا...</td>\n",
       "      <td>None</td>\n",
       "    </tr>\n",
       "  </tbody>\n",
       "</table>\n",
       "</div>"
      ],
      "text/plain": [
       "         label                                            content  \\\n",
       "0       فناوری  [اعلام, لیس, ۲۳, شرکت, مجاز, ثبت, سفارش, ارائه...   \n",
       "1  فرهنگی/هنری  [استاد, علم, قرائت, قرآن, کریم, ریشه, موسیقی, ...   \n",
       "2        حوادث  [آتش, سوزی‌های, زنجیره, جنگل, زاگرس, استان, ای...   \n",
       "3       فناوری  [استفاده, سرویس‌های, iMassage, Facetime, محصول...   \n",
       "4        حوادث  [دادستان, عموم, انقلاب, یاسوج, ۱۰, میلیون, دلا...   \n",
       "\n",
       "  predicted_label  \n",
       "0            None  \n",
       "1            None  \n",
       "2            None  \n",
       "3            None  \n",
       "4            None  "
      ]
     },
     "metadata": {},
     "output_type": "display_data"
    },
    {
     "data": {
      "text/html": [
       "<div>\n",
       "<style scoped>\n",
       "    .dataframe tbody tr th:only-of-type {\n",
       "        vertical-align: middle;\n",
       "    }\n",
       "\n",
       "    .dataframe tbody tr th {\n",
       "        vertical-align: top;\n",
       "    }\n",
       "\n",
       "    .dataframe thead th {\n",
       "        text-align: right;\n",
       "    }\n",
       "</style>\n",
       "<table border=\"1\" class=\"dataframe\">\n",
       "  <thead>\n",
       "    <tr style=\"text-align: right;\">\n",
       "      <th></th>\n",
       "      <th>label</th>\n",
       "      <th>content</th>\n",
       "      <th>predicted_label</th>\n",
       "    </tr>\n",
       "  </thead>\n",
       "  <tbody>\n",
       "    <tr>\n",
       "      <th>30</th>\n",
       "      <td>فرهنگی/هنری</td>\n",
       "      <td>[-, چهارشنبه, تیر, ۱۴۰۱, اتفاق, نادر, جالب, رخ...</td>\n",
       "      <td>سیاسی</td>\n",
       "    </tr>\n",
       "    <tr>\n",
       "      <th>42</th>\n",
       "      <td>فرهنگی/هنری</td>\n",
       "      <td>[یورگن, هابرماس, فیلسوف, جامعه, شناس, نامدار, ...</td>\n",
       "      <td>ورزشی</td>\n",
       "    </tr>\n",
       "    <tr>\n",
       "      <th>45</th>\n",
       "      <td>فرهنگی/هنری</td>\n",
       "      <td>[اعتراض, گسترده, کاربر, اظهارات, وزیر, امورخار...</td>\n",
       "      <td>سیاسی</td>\n",
       "    </tr>\n",
       "    <tr>\n",
       "      <th>61</th>\n",
       "      <td>فرهنگی/هنری</td>\n",
       "      <td>[فهرست, نامزد, جوایز, گلدن, گلوب, ۲۰۱۷, درحالی...</td>\n",
       "      <td>ورزشی</td>\n",
       "    </tr>\n",
       "    <tr>\n",
       "      <th>65</th>\n",
       "      <td>حوادث</td>\n",
       "      <td>[ملی‌پوش, سابق, دوچرخه, سوار, ایران, تصادف, فا...</td>\n",
       "      <td>فناوری</td>\n",
       "    </tr>\n",
       "  </tbody>\n",
       "</table>\n",
       "</div>"
      ],
      "text/plain": [
       "          label                                            content  \\\n",
       "30  فرهنگی/هنری  [-, چهارشنبه, تیر, ۱۴۰۱, اتفاق, نادر, جالب, رخ...   \n",
       "42  فرهنگی/هنری  [یورگن, هابرماس, فیلسوف, جامعه, شناس, نامدار, ...   \n",
       "45  فرهنگی/هنری  [اعتراض, گسترده, کاربر, اظهارات, وزیر, امورخار...   \n",
       "61  فرهنگی/هنری  [فهرست, نامزد, جوایز, گلدن, گلوب, ۲۰۱۷, درحالی...   \n",
       "65        حوادث  [ملی‌پوش, سابق, دوچرخه, سوار, ایران, تصادف, فا...   \n",
       "\n",
       "   predicted_label  \n",
       "30           سیاسی  \n",
       "42           ورزشی  \n",
       "45           سیاسی  \n",
       "61           ورزشی  \n",
       "65          فناوری  "
      ]
     },
     "metadata": {},
     "output_type": "display_data"
    }
   ],
   "source": [
    "display(non_smoothed_predicts[non_smoothed_predicts['label'] != non_smoothed_predicts['predicted_label']].head(5))\n",
    "display(smoothed_predicts[smoothed_predicts['label'] != smoothed_predicts['predicted_label']].head(5))"
   ]
  },
  {
   "attachments": {},
   "cell_type": "markdown",
   "metadata": {},
   "source": [
    "Most of the mis-predicted words are in the Art/Culture class. This is because some classes have high occurrence of words that are common among other classes. We can solve this problem by removing these words in preprocessing phase."
   ]
  }
 ],
 "metadata": {
  "kernelspec": {
   "display_name": "Python 3",
   "language": "python",
   "name": "python3"
  },
  "language_info": {
   "codemirror_mode": {
    "name": "ipython",
    "version": 3
   },
   "file_extension": ".py",
   "mimetype": "text/x-python",
   "name": "python",
   "nbconvert_exporter": "python",
   "pygments_lexer": "ipython3",
   "version": "3.10.5 (tags/v3.10.5:f377153, Jun  6 2022, 16:14:13) [MSC v.1929 64 bit (AMD64)]"
  },
  "orig_nbformat": 4,
  "vscode": {
   "interpreter": {
    "hash": "2d2e2e8a857acf4d435b79559f4d2f8a8badbfffac80b85159520f007dae8ed8"
   }
  }
 },
 "nbformat": 4,
 "nbformat_minor": 2
}
