{
 "cells": [
  {
   "attachments": {},
   "cell_type": "markdown",
   "metadata": {},
   "source": [
    "<html>\n",
    "<div style=\"background-image: linear-gradient(to left, rgb(255, 255, 255), rgb(138, 136, 136)); width: 600px; vertical-align: middle; height: 40px; margin: 10px;\">\n",
    "<h1 style=\"font-family: Georgia; color: black;\">AI-Fall 01-CA4</h1>\n",
    "</div>\n",
    "<div style=\"background-image: linear-gradient(to left, rgb(255, 255, 255), rgb(138, 136, 136)); width: 500px; margin: 10px;\">\n",
    "  <img src=\"https://upload.wikimedia.org/wikipedia/en/thumb/f/fd/University_of_Tehran_logo.svg/225px-University_of_Tehran_logo.svg.png\" width=60px width=auto style=\"padding:10px; vertical-align: middle;\">\n",
    "  <span style=\"font-family: Georgia; font-size:30px; color: black;\">University of Tehran </span>\n",
    "</div>\n",
    "<div style=\" background-image: linear-gradient(to left, rgb(255, 255, 255), rgb(138, 136, 136)); width: 400px; height: 30px; margin: 10px;\">\n",
    "  <span style=\"font-family: Georgia; font-size:15pt; color: black; vertical-align: middle;\">Saman Eslami Nazari - std id: 810199375 </span>\n",
    "</div>\n",
    "</html>"
   ]
  },
  {
   "attachments": {},
   "cell_type": "markdown",
   "metadata": {},
   "source": [
    "# Exploratory Data Analysis"
   ]
  },
  {
   "attachments": {},
   "cell_type": "markdown",
   "metadata": {},
   "source": [
    "First, lets read and store the dataset with `pandas`."
   ]
  },
  {
   "cell_type": "code",
   "execution_count": 98,
   "metadata": {},
   "outputs": [],
   "source": [
    "import pandas as pd\n",
    "\n",
    "DATASET_PATH = \"./dataset/diabetes.csv\"\n",
    "\n",
    "df = pd.read_csv(DATASET_PATH)"
   ]
  },
  {
   "attachments": {},
   "cell_type": "markdown",
   "metadata": {},
   "source": [
    "1. Observe the structure of the data using `info` and `describe` methods."
   ]
  },
  {
   "cell_type": "code",
   "execution_count": 99,
   "metadata": {},
   "outputs": [
    {
     "name": "stdout",
     "output_type": "stream",
     "text": [
      "<class 'pandas.core.frame.DataFrame'>\n",
      "RangeIndex: 768 entries, 0 to 767\n",
      "Data columns (total 9 columns):\n",
      " #   Column                    Non-Null Count  Dtype  \n",
      "---  ------                    --------------  -----  \n",
      " 0   Pregnancies               635 non-null    float64\n",
      " 1   Glucose                   654 non-null    float64\n",
      " 2   BloodPressure             680 non-null    float64\n",
      " 3   SkinThickness             624 non-null    float64\n",
      " 4   Insulin                   680 non-null    float64\n",
      " 5   BMI                       684 non-null    float64\n",
      " 6   DiabetesPedigreeFunction  590 non-null    float64\n",
      " 7   Age                       655 non-null    float64\n",
      " 8   Outcome                   768 non-null    int64  \n",
      "dtypes: float64(8), int64(1)\n",
      "memory usage: 54.1 KB\n"
     ]
    },
    {
     "data": {
      "text/plain": [
       "None"
      ]
     },
     "metadata": {},
     "output_type": "display_data"
    }
   ],
   "source": [
    "display(df.info())"
   ]
  },
  {
   "attachments": {},
   "cell_type": "markdown",
   "metadata": {},
   "source": [
    "The `info` method will show us the type and number of valid elements in each column. It also gives information about the memory usage.\n",
    "This method is useful when we want to take a look at the columns we have."
   ]
  },
  {
   "cell_type": "code",
   "execution_count": 100,
   "metadata": {},
   "outputs": [
    {
     "data": {
      "text/html": [
       "<div>\n",
       "<style scoped>\n",
       "    .dataframe tbody tr th:only-of-type {\n",
       "        vertical-align: middle;\n",
       "    }\n",
       "\n",
       "    .dataframe tbody tr th {\n",
       "        vertical-align: top;\n",
       "    }\n",
       "\n",
       "    .dataframe thead th {\n",
       "        text-align: right;\n",
       "    }\n",
       "</style>\n",
       "<table border=\"1\" class=\"dataframe\">\n",
       "  <thead>\n",
       "    <tr style=\"text-align: right;\">\n",
       "      <th></th>\n",
       "      <th>Pregnancies</th>\n",
       "      <th>Glucose</th>\n",
       "      <th>BloodPressure</th>\n",
       "      <th>SkinThickness</th>\n",
       "      <th>Insulin</th>\n",
       "      <th>BMI</th>\n",
       "      <th>DiabetesPedigreeFunction</th>\n",
       "      <th>Age</th>\n",
       "      <th>Outcome</th>\n",
       "    </tr>\n",
       "  </thead>\n",
       "  <tbody>\n",
       "    <tr>\n",
       "      <th>count</th>\n",
       "      <td>635.000000</td>\n",
       "      <td>654.000000</td>\n",
       "      <td>680.000000</td>\n",
       "      <td>624.000000</td>\n",
       "      <td>680.000000</td>\n",
       "      <td>684.000000</td>\n",
       "      <td>590.000000</td>\n",
       "      <td>655.000000</td>\n",
       "      <td>768.000000</td>\n",
       "    </tr>\n",
       "    <tr>\n",
       "      <th>mean</th>\n",
       "      <td>3.700787</td>\n",
       "      <td>113.422018</td>\n",
       "      <td>68.786765</td>\n",
       "      <td>20.386218</td>\n",
       "      <td>80.123529</td>\n",
       "      <td>32.083626</td>\n",
       "      <td>0.466676</td>\n",
       "      <td>33.157252</td>\n",
       "      <td>0.348958</td>\n",
       "    </tr>\n",
       "    <tr>\n",
       "      <th>std</th>\n",
       "      <td>3.518126</td>\n",
       "      <td>202.816831</td>\n",
       "      <td>19.724841</td>\n",
       "      <td>15.987049</td>\n",
       "      <td>115.681140</td>\n",
       "      <td>7.800741</td>\n",
       "      <td>0.322408</td>\n",
       "      <td>13.829831</td>\n",
       "      <td>0.476951</td>\n",
       "    </tr>\n",
       "    <tr>\n",
       "      <th>min</th>\n",
       "      <td>-22.000000</td>\n",
       "      <td>-5000.000000</td>\n",
       "      <td>-2.000000</td>\n",
       "      <td>0.000000</td>\n",
       "      <td>0.000000</td>\n",
       "      <td>0.000000</td>\n",
       "      <td>0.078000</td>\n",
       "      <td>-150.000000</td>\n",
       "      <td>0.000000</td>\n",
       "    </tr>\n",
       "    <tr>\n",
       "      <th>25%</th>\n",
       "      <td>1.000000</td>\n",
       "      <td>99.000000</td>\n",
       "      <td>62.000000</td>\n",
       "      <td>0.000000</td>\n",
       "      <td>0.000000</td>\n",
       "      <td>27.375000</td>\n",
       "      <td>0.243250</td>\n",
       "      <td>24.000000</td>\n",
       "      <td>0.000000</td>\n",
       "    </tr>\n",
       "    <tr>\n",
       "      <th>50%</th>\n",
       "      <td>3.000000</td>\n",
       "      <td>117.000000</td>\n",
       "      <td>72.000000</td>\n",
       "      <td>23.000000</td>\n",
       "      <td>34.000000</td>\n",
       "      <td>32.300000</td>\n",
       "      <td>0.368000</td>\n",
       "      <td>29.000000</td>\n",
       "      <td>0.000000</td>\n",
       "    </tr>\n",
       "    <tr>\n",
       "      <th>75%</th>\n",
       "      <td>6.000000</td>\n",
       "      <td>140.750000</td>\n",
       "      <td>80.000000</td>\n",
       "      <td>32.000000</td>\n",
       "      <td>129.250000</td>\n",
       "      <td>36.600000</td>\n",
       "      <td>0.611500</td>\n",
       "      <td>41.000000</td>\n",
       "      <td>1.000000</td>\n",
       "    </tr>\n",
       "    <tr>\n",
       "      <th>max</th>\n",
       "      <td>17.000000</td>\n",
       "      <td>199.000000</td>\n",
       "      <td>122.000000</td>\n",
       "      <td>99.000000</td>\n",
       "      <td>846.000000</td>\n",
       "      <td>67.100000</td>\n",
       "      <td>2.329000</td>\n",
       "      <td>81.000000</td>\n",
       "      <td>1.000000</td>\n",
       "    </tr>\n",
       "  </tbody>\n",
       "</table>\n",
       "</div>"
      ],
      "text/plain": [
       "       Pregnancies      Glucose  BloodPressure  SkinThickness     Insulin  \\\n",
       "count   635.000000   654.000000     680.000000     624.000000  680.000000   \n",
       "mean      3.700787   113.422018      68.786765      20.386218   80.123529   \n",
       "std       3.518126   202.816831      19.724841      15.987049  115.681140   \n",
       "min     -22.000000 -5000.000000      -2.000000       0.000000    0.000000   \n",
       "25%       1.000000    99.000000      62.000000       0.000000    0.000000   \n",
       "50%       3.000000   117.000000      72.000000      23.000000   34.000000   \n",
       "75%       6.000000   140.750000      80.000000      32.000000  129.250000   \n",
       "max      17.000000   199.000000     122.000000      99.000000  846.000000   \n",
       "\n",
       "              BMI  DiabetesPedigreeFunction         Age     Outcome  \n",
       "count  684.000000                590.000000  655.000000  768.000000  \n",
       "mean    32.083626                  0.466676   33.157252    0.348958  \n",
       "std      7.800741                  0.322408   13.829831    0.476951  \n",
       "min      0.000000                  0.078000 -150.000000    0.000000  \n",
       "25%     27.375000                  0.243250   24.000000    0.000000  \n",
       "50%     32.300000                  0.368000   29.000000    0.000000  \n",
       "75%     36.600000                  0.611500   41.000000    1.000000  \n",
       "max     67.100000                  2.329000   81.000000    1.000000  "
      ]
     },
     "execution_count": 100,
     "metadata": {},
     "output_type": "execute_result"
    }
   ],
   "source": [
    "df.describe()"
   ]
  },
  {
   "attachments": {},
   "cell_type": "markdown",
   "metadata": {},
   "source": [
    "The `describe` method gives more information about each column in the data frame. It gives us some statistical data about columns and is useful when it comes to inspecting the data."
   ]
  },
  {
   "attachments": {},
   "cell_type": "markdown",
   "metadata": {},
   "source": [
    "2. Find the count and rate of the missing data for each feature."
   ]
  },
  {
   "attachments": {},
   "cell_type": "markdown",
   "metadata": {},
   "source": [
    "The missing values count:"
   ]
  },
  {
   "cell_type": "code",
   "execution_count": 101,
   "metadata": {},
   "outputs": [
    {
     "data": {
      "text/plain": [
       "Pregnancies                 133\n",
       "Glucose                     114\n",
       "BloodPressure                88\n",
       "SkinThickness               144\n",
       "Insulin                      88\n",
       "BMI                          84\n",
       "DiabetesPedigreeFunction    178\n",
       "Age                         113\n",
       "Outcome                       0\n",
       "dtype: int64"
      ]
     },
     "execution_count": 101,
     "metadata": {},
     "output_type": "execute_result"
    }
   ],
   "source": [
    "df.isna().sum()"
   ]
  },
  {
   "attachments": {},
   "cell_type": "markdown",
   "metadata": {},
   "source": [
    "The missing values rate:"
   ]
  },
  {
   "cell_type": "code",
   "execution_count": 102,
   "metadata": {},
   "outputs": [
    {
     "data": {
      "text/plain": [
       "Pregnancies                 0.173177\n",
       "Glucose                     0.148438\n",
       "BloodPressure               0.114583\n",
       "SkinThickness               0.187500\n",
       "Insulin                     0.114583\n",
       "BMI                         0.109375\n",
       "DiabetesPedigreeFunction    0.231771\n",
       "Age                         0.147135\n",
       "Outcome                     0.000000\n",
       "dtype: float64"
      ]
     },
     "execution_count": 102,
     "metadata": {},
     "output_type": "execute_result"
    }
   ],
   "source": [
    "df.isna().sum() / df.shape[0]"
   ]
  },
  {
   "attachments": {},
   "cell_type": "markdown",
   "metadata": {},
   "source": [
    "3. Draw the correlation of the features."
   ]
  },
  {
   "cell_type": "code",
   "execution_count": 103,
   "metadata": {},
   "outputs": [
    {
     "data": {
      "image/png": "[encoded data removed]",
      "text/plain": [
       "<Figure size 1080x1080 with 2 Axes>"
      ]
     },
     "metadata": {
      "needs_background": "light"
     },
     "output_type": "display_data"
    }
   ],
   "source": [
    "import matplotlib.pyplot as plt\n",
    "from matplotlib.axes import Axes\n",
    "\n",
    "alpha = list(df)\n",
    "\n",
    "fig, ax = plt.subplots(figsize=(15,15))\n",
    "heat_map = ax.matshow(df.corr())\n",
    "\n",
    "ax.set_xticks(range(0, len(alpha)), labels=alpha)\n",
    "ax.set_yticks(range(0, len(alpha)), labels=alpha)\n",
    "plt.setp(ax.get_xticklabels(), rotation=45)\n",
    "plt.colorbar(heat_map)\n",
    "plt.show()\n",
    "plt.close()"
   ]
  },
  {
   "attachments": {},
   "cell_type": "markdown",
   "metadata": {},
   "source": [
    "To see what features have the most correlation with the outcome, we can simply use the outcome row in `df.corr()`."
   ]
  },
  {
   "cell_type": "code",
   "execution_count": 104,
   "metadata": {},
   "outputs": [
    {
     "data": {
      "text/plain": [
       "Outcome                     1.000000\n",
       "BMI                         0.284374\n",
       "Pregnancies                 0.193306\n",
       "DiabetesPedigreeFunction    0.186958\n",
       "Age                         0.152902\n",
       "Insulin                     0.112239\n",
       "Glucose                     0.105518\n",
       "SkinThickness               0.086170\n",
       "BloodPressure               0.044803\n",
       "Name: Outcome, dtype: float64"
      ]
     },
     "metadata": {},
     "output_type": "display_data"
    }
   ],
   "source": [
    "display(df.corr()['Outcome'].sort_values(ascending=False))"
   ]
  },
  {
   "attachments": {},
   "cell_type": "markdown",
   "metadata": {},
   "source": [
    "So the three features that has the most correlation with the outcome are BMI, Pregnancies and DiabetesPedigreeFunction."
   ]
  },
  {
   "attachments": {},
   "cell_type": "markdown",
   "metadata": {},
   "source": [
    "4. Count the number of occurrences of unique values in each feature."
   ]
  },
  {
   "cell_type": "code",
   "execution_count": 105,
   "metadata": {},
   "outputs": [
    {
     "data": {
      "image/png": "[encoded data removed]",
      "text/plain": [
       "<Figure size 432x288 with 1 Axes>"
      ]
     },
     "metadata": {
      "needs_background": "light"
     },
     "output_type": "display_data"
    },
    {
     "data": {
      "image/png": "[encoded data removed]",
      "text/plain": [
       "<Figure size 432x288 with 1 Axes>"
      ]
     },
     "metadata": {
      "needs_background": "light"
     },
     "output_type": "display_data"
    },
    {
     "data": {
      "image/png": "[encoded data removed]",
      "text/plain": [
       "<Figure size 432x288 with 1 Axes>"
      ]
     },
     "metadata": {
      "needs_background": "light"
     },
     "output_type": "display_data"
    }
   ],
   "source": [
    "import math\n",
    "import numpy as np\n",
    "\n",
    "top_corr_cols = df.corr()['Outcome'].sort_values(ascending=False).index.to_list()\n",
    "top_corr_cols = top_corr_cols[1:4]\n",
    "\n",
    "for column in top_corr_cols:\n",
    "    data = df[column]\n",
    "    plt.figure()\n",
    "    plt.hist(data)\n",
    "    plt.title(column)\n",
    "    plt.show()\n"
   ]
  },
  {
   "attachments": {},
   "cell_type": "markdown",
   "metadata": {},
   "source": [
    "5. Visualize features and outcome relations using hexbin and scatter diagrams."
   ]
  },
  {
   "attachments": {},
   "cell_type": "markdown",
   "metadata": {},
   "source": [
    "Here, I will show scatter and hexbin plots for the 3 diagrams that had the most correlation with the 'Outcome'."
   ]
  },
  {
   "cell_type": "code",
   "execution_count": 106,
   "metadata": {},
   "outputs": [
    {
     "data": {
      "image/png": "[encoded data removed]",
      "text/plain": [
       "<Figure size 360x720 with 2 Axes>"
      ]
     },
     "metadata": {
      "needs_background": "light"
     },
     "output_type": "display_data"
    },
    {
     "data": {
      "image/png": "[encoded data removed]",
      "text/plain": [
       "<Figure size 360x720 with 2 Axes>"
      ]
     },
     "metadata": {
      "needs_background": "light"
     },
     "output_type": "display_data"
    },
    {
     "data": {
      "image/png": "[encoded data removed]",
      "text/plain": [
       "<Figure size 360x720 with 2 Axes>"
      ]
     },
     "metadata": {
      "needs_background": "light"
     },
     "output_type": "display_data"
    }
   ],
   "source": [
    "for column in top_corr_cols:\n",
    "    fig, axes = plt.subplots(nrows=2, figsize=(5, 10))\n",
    "    axes[0].scatter(df[column], df['Outcome'])\n",
    "    axes[0].set_title(f\"{column} scatter\")\n",
    "    axes[1].hexbin(df[column], df['Outcome'], gridsize=20, cmap='Blues')\n",
    "    axes[1].set_title(f\"{column} hexbin\")"
   ]
  },
  {
   "attachments": {},
   "cell_type": "markdown",
   "metadata": {},
   "source": [
    "# Preprocessing the Data"
   ]
  },
  {
   "attachments": {},
   "cell_type": "markdown",
   "metadata": {},
   "source": [
    "1. Describe different  methods for filling in the missing data."
   ]
  },
  {
   "attachments": {},
   "cell_type": "markdown",
   "metadata": {},
   "source": [
    "There are three ways to solve the problem of missing data:\n",
    "1. Simply deleting the data related to the missing values.\n",
    "2. Using the mean of that feature.\n",
    "3. Using the most frequent value in the same column.\n",
    "4. Creating another group that represents the missing values usually under the name of \"unspecified\" or \"unknown\".\n",
    "5. Using imputers that learn from available data and fill the missing values."
   ]
  },
  {
   "attachments": {},
   "cell_type": "markdown",
   "metadata": {},
   "source": [
    "2. According to the previous phase, find and solve the features that have a lot of missing values."
   ]
  },
  {
   "attachments": {},
   "cell_type": "markdown",
   "metadata": {},
   "source": [
    "First of all, I will detect and replace the values that are out of bound. None of the features can have negative values; Also every feature except 'Pregnancies' and 'DiabetesPedigreeFunction' must have a non-zero value."
   ]
  },
  {
   "cell_type": "code",
   "execution_count": 107,
   "metadata": {},
   "outputs": [],
   "source": [
    "df[df < 0] = np.nan\n",
    "for column in df.columns.drop(['Outcome', 'DiabetesPedigreeFunction', 'Pregnancies']):\n",
    "    df[column].replace(0, np.nan, inplace=True)"
   ]
  },
  {
   "attachments": {},
   "cell_type": "markdown",
   "metadata": {},
   "source": [
    "Now the missing percentage of each feature will be as follow:"
   ]
  },
  {
   "cell_type": "code",
   "execution_count": 108,
   "metadata": {},
   "outputs": [
    {
     "name": "stdout",
     "output_type": "stream",
     "text": [
      "Insulin                     0.542969\n",
      "SkinThickness               0.429688\n",
      "DiabetesPedigreeFunction    0.231771\n",
      "Pregnancies                 0.175781\n",
      "BloodPressure               0.157552\n",
      "Glucose                     0.154948\n",
      "Age                         0.148438\n",
      "BMI                         0.121094\n",
      "Outcome                     0.000000\n",
      "dtype: float64\n"
     ]
    }
   ],
   "source": [
    "missing_percentage = (df.isna().sum() / df.shape[0]).sort_values(ascending=False)\n",
    "print(missing_percentage)"
   ]
  },
  {
   "attachments": {},
   "cell_type": "markdown",
   "metadata": {},
   "source": [
    "More than half of the values in 'Insulin' feature are garbage; Also the 'SkinThickness' has a high percentage of missing values. Therefore I will remove these features."
   ]
  },
  {
   "cell_type": "code",
   "execution_count": 109,
   "metadata": {},
   "outputs": [],
   "source": [
    "garbage_feature = missing_percentage.head(2).index # Insulin, SkinThickness\n",
    "df = df.drop(garbage_feature, axis=1)"
   ]
  },
  {
   "cell_type": "code",
   "execution_count": 110,
   "metadata": {},
   "outputs": [
    {
     "data": {
      "text/plain": [
       "Pregnancies                 0\n",
       "Glucose                     0\n",
       "BloodPressure               0\n",
       "BMI                         0\n",
       "DiabetesPedigreeFunction    0\n",
       "Age                         0\n",
       "Outcome                     0\n",
       "dtype: int64"
      ]
     },
     "metadata": {},
     "output_type": "display_data"
    }
   ],
   "source": [
    "import math\n",
    "\n",
    "df.fillna(df.median(), inplace=True)\n",
    "\n",
    "display(df.isna().sum())"
   ]
  },
  {
   "attachments": {},
   "cell_type": "markdown",
   "metadata": {},
   "source": [
    "3. When do we need to apply Normalizing and Standardizing? Do we need it here?"
   ]
  },
  {
   "attachments": {},
   "cell_type": "markdown",
   "metadata": {},
   "source": [
    "To answer the first question, I quote from [this link](https://towardsai.net/p/data-science/how-when-and-why-should-you-normalize-standardize-rescale-your-data-3f083def38ff):\n",
    "> **Normalization** is a good technique to use when you do not know the distribution of your data or when you know the distribution is not Gaussian (a bell curve). Normalization is useful when your data has varying scales and the algorithm you are using does not make assumptions about the distribution of your data, such as k-nearest neighbors and artificial neural networks.<br>\n",
    "**Standardization** assumes that your data has a Gaussian (bell curve) distribution. This does not strictly have to be true, but the technique is more effective if your attribute distribution is Gaussian. Standardization is useful when your data has varying scales and the algorithm you are using does make assumptions about your data having a Gaussian distribution, such as linear regression, logistic regression, and linear discriminant analysis.\n",
    "\n",
    "In conclusion, some algorithms fail with large numbers. Here we can use a min max scaler for the features."
   ]
  },
  {
   "cell_type": "code",
   "execution_count": 111,
   "metadata": {},
   "outputs": [
    {
     "data": {
      "text/html": [
       "<div>\n",
       "<style scoped>\n",
       "    .dataframe tbody tr th:only-of-type {\n",
       "        vertical-align: middle;\n",
       "    }\n",
       "\n",
       "    .dataframe tbody tr th {\n",
       "        vertical-align: top;\n",
       "    }\n",
       "\n",
       "    .dataframe thead th {\n",
       "        text-align: right;\n",
       "    }\n",
       "</style>\n",
       "<table border=\"1\" class=\"dataframe\">\n",
       "  <thead>\n",
       "    <tr style=\"text-align: right;\">\n",
       "      <th></th>\n",
       "      <th>Pregnancies</th>\n",
       "      <th>Glucose</th>\n",
       "      <th>BloodPressure</th>\n",
       "      <th>BMI</th>\n",
       "      <th>DiabetesPedigreeFunction</th>\n",
       "      <th>Age</th>\n",
       "      <th>Outcome</th>\n",
       "    </tr>\n",
       "  </thead>\n",
       "  <tbody>\n",
       "    <tr>\n",
       "      <th>count</th>\n",
       "      <td>768.000000</td>\n",
       "      <td>768.000000</td>\n",
       "      <td>768.000000</td>\n",
       "      <td>768.000000</td>\n",
       "      <td>768.000000</td>\n",
       "      <td>768.000000</td>\n",
       "      <td>768.000000</td>\n",
       "    </tr>\n",
       "    <tr>\n",
       "      <th>mean</th>\n",
       "      <td>0.213006</td>\n",
       "      <td>0.498227</td>\n",
       "      <td>0.492360</td>\n",
       "      <td>0.292391</td>\n",
       "      <td>0.162508</td>\n",
       "      <td>0.196311</td>\n",
       "      <td>0.348958</td>\n",
       "    </tr>\n",
       "    <tr>\n",
       "      <th>std</th>\n",
       "      <td>0.180086</td>\n",
       "      <td>0.183007</td>\n",
       "      <td>0.116389</td>\n",
       "      <td>0.132450</td>\n",
       "      <td>0.126871</td>\n",
       "      <td>0.183918</td>\n",
       "      <td>0.476951</td>\n",
       "    </tr>\n",
       "    <tr>\n",
       "      <th>min</th>\n",
       "      <td>0.000000</td>\n",
       "      <td>0.000000</td>\n",
       "      <td>0.000000</td>\n",
       "      <td>0.000000</td>\n",
       "      <td>0.000000</td>\n",
       "      <td>0.000000</td>\n",
       "      <td>0.000000</td>\n",
       "    </tr>\n",
       "    <tr>\n",
       "      <th>25%</th>\n",
       "      <td>0.058824</td>\n",
       "      <td>0.374194</td>\n",
       "      <td>0.428571</td>\n",
       "      <td>0.200409</td>\n",
       "      <td>0.082186</td>\n",
       "      <td>0.066667</td>\n",
       "      <td>0.000000</td>\n",
       "    </tr>\n",
       "    <tr>\n",
       "      <th>50%</th>\n",
       "      <td>0.176471</td>\n",
       "      <td>0.470968</td>\n",
       "      <td>0.489796</td>\n",
       "      <td>0.290389</td>\n",
       "      <td>0.128832</td>\n",
       "      <td>0.133333</td>\n",
       "      <td>0.000000</td>\n",
       "    </tr>\n",
       "    <tr>\n",
       "      <th>75%</th>\n",
       "      <td>0.294118</td>\n",
       "      <td>0.593548</td>\n",
       "      <td>0.551020</td>\n",
       "      <td>0.360429</td>\n",
       "      <td>0.202799</td>\n",
       "      <td>0.300000</td>\n",
       "      <td>1.000000</td>\n",
       "    </tr>\n",
       "    <tr>\n",
       "      <th>max</th>\n",
       "      <td>1.000000</td>\n",
       "      <td>1.000000</td>\n",
       "      <td>1.000000</td>\n",
       "      <td>1.000000</td>\n",
       "      <td>1.000000</td>\n",
       "      <td>1.000000</td>\n",
       "      <td>1.000000</td>\n",
       "    </tr>\n",
       "  </tbody>\n",
       "</table>\n",
       "</div>"
      ],
      "text/plain": [
       "       Pregnancies     Glucose  BloodPressure         BMI  \\\n",
       "count   768.000000  768.000000     768.000000  768.000000   \n",
       "mean      0.213006    0.498227       0.492360    0.292391   \n",
       "std       0.180086    0.183007       0.116389    0.132450   \n",
       "min       0.000000    0.000000       0.000000    0.000000   \n",
       "25%       0.058824    0.374194       0.428571    0.200409   \n",
       "50%       0.176471    0.470968       0.489796    0.290389   \n",
       "75%       0.294118    0.593548       0.551020    0.360429   \n",
       "max       1.000000    1.000000       1.000000    1.000000   \n",
       "\n",
       "       DiabetesPedigreeFunction         Age     Outcome  \n",
       "count                768.000000  768.000000  768.000000  \n",
       "mean                   0.162508    0.196311    0.348958  \n",
       "std                    0.126871    0.183918    0.476951  \n",
       "min                    0.000000    0.000000    0.000000  \n",
       "25%                    0.082186    0.066667    0.000000  \n",
       "50%                    0.128832    0.133333    0.000000  \n",
       "75%                    0.202799    0.300000    1.000000  \n",
       "max                    1.000000    1.000000    1.000000  "
      ]
     },
     "metadata": {},
     "output_type": "display_data"
    }
   ],
   "source": [
    "from sklearn.preprocessing import MinMaxScaler\n",
    "\n",
    "columns_to_scale = df.columns.drop('Outcome')\n",
    "\n",
    "scaler = MinMaxScaler()\n",
    "df[columns_to_scale] = scaler.fit_transform(df[columns_to_scale])\n",
    "\n",
    "display(df.describe())"
   ]
  },
  {
   "attachments": {},
   "cell_type": "markdown",
   "metadata": {},
   "source": [
    "4. What preprocessing methods are useful when it comes to use categorical data?"
   ]
  },
  {
   "attachments": {},
   "cell_type": "markdown",
   "metadata": {},
   "source": [
    "There are many different methods to encode categorical data. \"One hot encoding\", \"binary encoding\", \"label encoding\", and \"frequency encoding\" are to name a few. Here we don't need any encoding as there is no feature with nun-numerical value."
   ]
  },
  {
   "attachments": {},
   "cell_type": "markdown",
   "metadata": {},
   "source": [
    "5. Is it possible to remove some columns? why?"
   ]
  },
  {
   "attachments": {},
   "cell_type": "markdown",
   "metadata": {},
   "source": [
    "Yes it is; As mentioned before, 'SkinThickness' and 'Insulin' have a high percentage of missing values and therefore it can be ignored; These features are usually irrelevant to the outcome and can even confuse the model. Also sometimes there are features that are not worth considering because they take too much time to process."
   ]
  },
  {
   "attachments": {},
   "cell_type": "markdown",
   "metadata": {},
   "source": [
    "6. What is the split ratio of test and train datasets' size? What methods are there for this purpose."
   ]
  },
  {
   "attachments": {},
   "cell_type": "markdown",
   "metadata": {},
   "source": [
    "The ratio depends on the number od samples present in the dataset and the model. If there are several hyperparameters in the model, we'll need a much larger training dataset. If a false prediction can highly affect the models performance, It's better to validate the model after every step in training. We should consider that with less training data, out model will show high variance in training; Also with less testing data, out model's performance will have high variance in statistics. There are several ways to split the dataset; Here are some:\n",
    "- **Random**: Picking sample random with the specified split ratio. This can cause our training dataset to contain only one class of the outcome and therefore out model will not learn how to predict other classes.\n",
    "- **Stratified**: This method will make sure that there are as much of the outcome class in the training dataset, as we have specified.\n",
    "- **Cross validation or K-fold cross validation**: A model will be trained and evaluated K times on different samples."
   ]
  },
  {
   "attachments": {},
   "cell_type": "markdown",
   "metadata": {},
   "source": [
    "7. Explain the evaluation dataset."
   ]
  },
  {
   "attachments": {},
   "cell_type": "markdown",
   "metadata": {},
   "source": [
    "Evaluation dataset consist samples that will be used during the model training. This is separated from test dataset to avoid overfitting and having a false high accuracy on the test dataset."
   ]
  },
  {
   "cell_type": "code",
   "execution_count": 112,
   "metadata": {},
   "outputs": [],
   "source": [
    "from sklearn.model_selection import train_test_split\n",
    "\n",
    "x_df = df.drop('Outcome', axis=1)\n",
    "y_df = df['Outcome']\n",
    "\n",
    "x_train, x_test, y_train, y_test = train_test_split(x_df, y_df, test_size=0.3, random_state=1)"
   ]
  },
  {
   "attachments": {},
   "cell_type": "markdown",
   "metadata": {},
   "source": [
    "# Training, Evaluation, and Tuning"
   ]
  },
  {
   "attachments": {},
   "cell_type": "markdown",
   "metadata": {},
   "source": [
    "Confusion matrix is $n\\times n$ matrix that $n$ is the number of available classes in our model. One dimension indicates the actual labels and the other is the predicted labels. for example if $i$ is the predicted class label and $j$ is the actual class label, for $i = 0, j = 1$ we have the inputs that were predicted to be in class 0 but actually belong to the class 1.<br>\n",
    "Before doing anything, I'll write a function to avoid repeating 3 lines of code the do the job for visualizing the confusion matrix."
   ]
  },
  {
   "cell_type": "code",
   "execution_count": 113,
   "metadata": {},
   "outputs": [],
   "source": [
    "from sklearn.metrics import ConfusionMatrixDisplay\n",
    "\n",
    "def confusion_matrix_vis(matrix):\n",
    "    cm_display = ConfusionMatrixDisplay(confusion_matrix=matrix, display_labels=['0', '1'])\n",
    "    cm_display.plot()\n",
    "    plt.show()"
   ]
  },
  {
   "attachments": {},
   "cell_type": "markdown",
   "metadata": {},
   "source": [
    "In this part I will train three models to predicts this dataset; Decision trees, K-nearest-neighbors, and logistic regression. I will use the scikit learn library for this purpose."
   ]
  },
  {
   "attachments": {},
   "cell_type": "markdown",
   "metadata": {},
   "source": [
    "## Decision Tree"
   ]
  },
  {
   "attachments": {},
   "cell_type": "markdown",
   "metadata": {},
   "source": [
    "Training decision tree model and using `GridSearchCV` to find the best combination of the hyperparameters."
   ]
  },
  {
   "cell_type": "code",
   "execution_count": 114,
   "metadata": {},
   "outputs": [],
   "source": [
    "from sklearn.tree import DecisionTreeClassifier\n",
    "from sklearn.model_selection import GridSearchCV\n",
    "\n",
    "dt_features = x_train.columns.to_list()\n",
    "\n",
    "# dt == decision tree\n",
    "dt_parameters = {\n",
    "    'criterion': ['entropy'],\n",
    "    'max_depth': range(5, 10),\n",
    "    'min_samples_split': range(5, 10),\n",
    "    'min_samples_leaf': range(1, 4),\n",
    "    'random_state': [1]\n",
    "}\n",
    "\n",
    "dt_model = DecisionTreeClassifier()\n",
    "dt_clf = GridSearchCV(dt_model, dt_parameters, scoring='accuracy')\n"
   ]
  },
  {
   "attachments": {},
   "cell_type": "markdown",
   "metadata": {},
   "source": [
    "Now lets test our decision tree model."
   ]
  },
  {
   "cell_type": "code",
   "execution_count": 115,
   "metadata": {},
   "outputs": [
    {
     "name": "stdout",
     "output_type": "stream",
     "text": [
      "accuracy: 0.7705627705627706\n"
     ]
    },
    {
     "data": {
      "image/png": "[encoded data removed]",
      "text/plain": [
       "<Figure size 432x288 with 2 Axes>"
      ]
     },
     "metadata": {
      "needs_background": "light"
     },
     "output_type": "display_data"
    }
   ],
   "source": [
    "from sklearn.metrics import confusion_matrix, accuracy_score\n",
    "\n",
    "dt_clf.fit(x_train[dt_features], y_train)\n",
    "dt_pred = dt_clf.predict(x_test[dt_features])\n",
    "print('accuracy:', accuracy_score(y_test, dt_pred))\n",
    "confusion_matrix_vis(confusion_matrix(y_test, dt_pred))\n"
   ]
  },
  {
   "attachments": {},
   "cell_type": "markdown",
   "metadata": {},
   "source": [
    "## K-NN"
   ]
  },
  {
   "cell_type": "code",
   "execution_count": 116,
   "metadata": {},
   "outputs": [],
   "source": [
    "from sklearn.neighbors import KNeighborsClassifier\n",
    "\n",
    "k_nn_features = x_train.columns.to_list()\n",
    "\n",
    "k_nn_parameters = {\n",
    "    'n_neighbors': range(3, 10, 2)\n",
    "}\n",
    "\n",
    "k_nn_model = KNeighborsClassifier()\n",
    "k_nn_clf = GridSearchCV(k_nn_model, k_nn_parameters, scoring='accuracy')"
   ]
  },
  {
   "cell_type": "code",
   "execution_count": 117,
   "metadata": {},
   "outputs": [
    {
     "name": "stdout",
     "output_type": "stream",
     "text": [
      "accuracy: 0.7489177489177489\n"
     ]
    },
    {
     "data": {
      "image/png": "[encoded data removed]",
      "text/plain": [
       "<Figure size 432x288 with 2 Axes>"
      ]
     },
     "metadata": {
      "needs_background": "light"
     },
     "output_type": "display_data"
    }
   ],
   "source": [
    "k_nn_clf.fit(x_train[k_nn_features], y_train)\n",
    "k_nn_pred = k_nn_clf.predict(x_test[k_nn_features])\n",
    "print('accuracy:', accuracy_score(y_test, k_nn_pred))\n",
    "confusion_matrix_vis(confusion_matrix(y_test, k_nn_pred))\n"
   ]
  },
  {
   "attachments": {},
   "cell_type": "markdown",
   "metadata": {},
   "source": [
    "## Logistic Regression"
   ]
  },
  {
   "cell_type": "code",
   "execution_count": 118,
   "metadata": {},
   "outputs": [],
   "source": [
    "from sklearn.linear_model import LogisticRegression\n",
    "\n",
    "lr_features = x_train.columns.tolist()\n",
    "\n",
    "# lr == logistic regression\n",
    "lr_clf = LogisticRegression()"
   ]
  },
  {
   "cell_type": "code",
   "execution_count": 119,
   "metadata": {},
   "outputs": [
    {
     "name": "stdout",
     "output_type": "stream",
     "text": [
      "accuracy: 0.7748917748917749\n"
     ]
    },
    {
     "data": {
      "image/png": "[encoded data removed]",
      "text/plain": [
       "<Figure size 432x288 with 2 Axes>"
      ]
     },
     "metadata": {
      "needs_background": "light"
     },
     "output_type": "display_data"
    }
   ],
   "source": [
    "lr_clf.fit(x_train[lr_features], y_train)\n",
    "lr_pred = lr_clf.predict(x_test[lr_features])\n",
    "print('accuracy:', accuracy_score(y_test, lr_pred))\n",
    "confusion_matrix_vis(confusion_matrix(y_test, lr_pred))\n"
   ]
  },
  {
   "attachments": {},
   "cell_type": "markdown",
   "metadata": {},
   "source": [
    "### Overfitting and Underfitting"
   ]
  },
  {
   "attachments": {},
   "cell_type": "markdown",
   "metadata": {},
   "source": [
    "Before examining this section, I will explain the variance and bias:\n",
    "- **Variance**: The difference between error rate of training data and testing data.\n",
    "- **Bias**: The error rate of the training data.\n",
    "\n",
    "#### ***Underfitting***:\n",
    "Shortly, underfitting means that the model is not behaving well neither on the training data nor on the test data. Reasons for underfitting:\n",
    "1. High bias and low variance.\n",
    "2. We don't have enough data to train out model.\n",
    "3. The model is too simple.\n",
    "4. We don't have a clean data for training.\n",
    "#### ***Overfitting***:\n",
    "Shortly, overfitting happens when the model is doing well on the training data but not on the test data. This can happen when the evaluation technic in training data is different from the unseen data. Reasons for overfitting:\n",
    "1. High variance and low bias.\n",
    "2. The model is too complex.\n",
    "3. The size of the training data."
   ]
  },
  {
   "attachments": {},
   "cell_type": "markdown",
   "metadata": {},
   "source": [
    "To see if overfitting or underfitting has happened we can check the measurement on both the training and testing datasets."
   ]
  },
  {
   "cell_type": "code",
   "execution_count": 120,
   "metadata": {},
   "outputs": [
    {
     "name": "stdout",
     "output_type": "stream",
     "text": [
      "test accuracy: 0.7705627705627706, train accuracy: 0.7988826815642458\n",
      "test accuracy: 0.7489177489177489, train accuracy: 0.7858472998137802\n",
      "test accuracy: 0.7748917748917749, train accuracy: 0.7579143389199255\n"
     ]
    }
   ],
   "source": [
    "dt_train_pred = dt_clf.predict(x_train[dt_features])\n",
    "print(f\"test accuracy: {accuracy_score(y_test, dt_pred)}, train accuracy: {accuracy_score(y_train, dt_train_pred)}\")\n",
    "\n",
    "k_nn_train_pred = k_nn_clf.predict(x_train[k_nn_features])\n",
    "print(f\"test accuracy: {accuracy_score(y_test, k_nn_pred)}, train accuracy: {accuracy_score(y_train, k_nn_train_pred)}\")\n",
    "\n",
    "lr_train_pred = lr_clf.predict(x_train[lr_features])\n",
    "print(f\"test accuracy: {accuracy_score(y_test, lr_pred)}, train accuracy: {accuracy_score(y_train, lr_train_pred)}\")\n"
   ]
  },
  {
   "attachments": {},
   "cell_type": "markdown",
   "metadata": {},
   "source": [
    "As it can be seen from above, There is not much difference between the results, therefore we have low variance; Also the error rate on train data is low which means that we have a low bias. As a result, neither overfitting nor underfitting has occurred."
   ]
  },
  {
   "attachments": {},
   "cell_type": "markdown",
   "metadata": {},
   "source": [
    "# Ensemble Learning"
   ]
  },
  {
   "cell_type": "code",
   "execution_count": 123,
   "metadata": {},
   "outputs": [],
   "source": [
    "from sklearn.ensemble import RandomForestClassifier\n",
    "\n",
    "rand_forest_features = x_train.columns.to_list()\n",
    "\n",
    "rand_forest_parameters = {\n",
    "    'n_estimators' : range(10, 100, 10),\n",
    "    'max_depth' : range(2, 10),\n",
    "    'criterion' : ['gini', 'entropy'],\n",
    "    'random_state' : [0, 1]\n",
    "}\n",
    "\n",
    "rand_forest_model = RandomForestClassifier()\n",
    "rand_forest_clf = GridSearchCV(rand_forest_model, rand_forest_parameters, scoring='accuracy')"
   ]
  },
  {
   "cell_type": "code",
   "execution_count": 124,
   "metadata": {},
   "outputs": [
    {
     "name": "stdout",
     "output_type": "stream",
     "text": [
      "accuracy:  0.7619047619047619\n"
     ]
    },
    {
     "data": {
      "image/png": "[encoded data removed]",
      "text/plain": [
       "<Figure size 432x288 with 2 Axes>"
      ]
     },
     "metadata": {
      "needs_background": "light"
     },
     "output_type": "display_data"
    }
   ],
   "source": [
    "rand_forest_clf.fit(x_train[rand_forest_features], y_train)\n",
    "rand_forest_pred = rand_forest_clf.predict(x_test[rand_forest_features])\n",
    "\n",
    "print('accuracy: ', accuracy_score(y_test, rand_forest_pred))\n",
    "confusion_matrix_vis(confusion_matrix(y_test, rand_forest_pred))\n"
   ]
  },
  {
   "attachments": {},
   "cell_type": "markdown",
   "metadata": {},
   "source": [
    "### Random Forest Hyperparameters\n",
    "The following list contains some of the random forest hyperparameters:\n",
    "- `n_estimators`\n",
    "- `criterion`\n",
    "- `max_depth`\n",
    "- `min_samples_split`\n",
    "- `min_samples_leaf`\n",
    "- `min_weight_fraction_leaf`\n",
    "- `max_features`\n",
    "- `max_leaf_nodes`\n",
    "- `min_impurity_decrease`\n",
    "<br>\n",
    "<!-- end of list -->\n",
    "Here, I will explain the `n_estimators` and the `max_depth`:\n",
    "- `n_estimators`: This specifies the number of the decision trees that our models is going to create and take them into account.\n",
    "- `max_depth`: The maximum depth allowed in a single decision tree."
   ]
  },
  {
   "attachments": {},
   "cell_type": "markdown",
   "metadata": {},
   "source": [
    "### Random Forest Against Decision Tree\n",
    "\n",
    "Random forests are designed to reduce the variance in decision tree models. Random forests take a vote between some number of trained decision trees and outputs the class that was chosen by the majority of the decision trees. It is obvious that this technic increases the power of generalizations which leads to lower variance.<br>\n",
    "To test this claim, I will calculate variance for both the decision tree and the random forest models that I previously used. "
   ]
  },
  {
   "cell_type": "code",
   "execution_count": 126,
   "metadata": {},
   "outputs": [
    {
     "name": "stdout",
     "output_type": "stream",
     "text": [
      "random forest variance: 0.09688311688311689, decision tree variance: 0.19227272727272726\n"
     ]
    }
   ],
   "source": [
    "from mlxtend.evaluate import bias_variance_decomp\n",
    "\n",
    "_, _, rand_forest_variance = bias_variance_decomp(\n",
    "    rand_forest_model,\n",
    "    x_train[rand_forest_features].values,\n",
    "    y_train.values,\n",
    "    x_test[rand_forest_features].values,\n",
    "    y_test.values\n",
    ")\n",
    "\n",
    "_, _, dt_variance = bias_variance_decomp(\n",
    "    dt_clf,\n",
    "    x_train[dt_features].values,\n",
    "    y_train.values,\n",
    "    x_test[dt_features].values,\n",
    "    y_test.values\n",
    ")\n",
    "\n",
    "print(f\"random forest variance: {rand_forest_variance}, decision tree variance: {dt_variance}\")"
   ]
  }
 ],
 "metadata": {
  "kernelspec": {
   "display_name": "Python 3",
   "language": "python",
   "name": "python3"
  },
  "language_info": {
   "codemirror_mode": {
    "name": "ipython",
    "version": 3
   },
   "file_extension": ".py",
   "mimetype": "text/x-python",
   "name": "python",
   "nbconvert_exporter": "python",
   "pygments_lexer": "ipython3",
   "version": "3.10.5"
  },
  "orig_nbformat": 4,
  "vscode": {
   "interpreter": {
    "hash": "2d2e2e8a857acf4d435b79559f4d2f8a8badbfffac80b85159520f007dae8ed8"
   }
  }
 },
 "nbformat": 4,
 "nbformat_minor": 2
}
